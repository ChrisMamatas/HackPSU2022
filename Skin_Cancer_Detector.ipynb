{
  "cells": [
    {
      "cell_type": "markdown",
      "id": "ee835a68",
      "metadata": {
        "id": "ee835a68"
      },
      "source": [
        "## Loading data into files and containers"
      ]
    },
    {
      "cell_type": "code",
      "execution_count": 28,
      "id": "0040de40",
      "metadata": {
        "id": "0040de40"
      },
      "outputs": [],
      "source": [
        "import os\n",
        "import cv2 as cv\n",
        "import numpy as np\n",
        "import matplotlib.pyplot as plt\n",
        "from zipfile import ZipFile\n",
        "import pandas as pd\n",
        "from sklearn.metrics import f1_score, precision_score, recall_score"
      ]
    },
    {
      "cell_type": "markdown",
      "id": "8dbe7c05",
      "metadata": {
        "id": "8dbe7c05"
      },
      "source": [
        "### Downloading data set should not need to do know\n"
      ]
    },
    {
      "cell_type": "code",
      "execution_count": 29,
      "id": "76d85269",
      "metadata": {
        "id": "76d85269"
      },
      "outputs": [],
      "source": [
        "#!chmod 600 kaggle.json && (ls ~/.kaggle 2>/dev/null || mkdir ~/.kaggle) && cp kaggle.json ~/.kaggle/ && echo 'Done'\n",
        "#!ls\n",
        "#!kaggle datasets download --force -d kmader/skin-cancer-mnist-ham10000"
      ]
    },
    {
      "cell_type": "code",
      "execution_count": 30,
      "id": "f0ce1ac8",
      "metadata": {
        "scrolled": true,
        "colab": {
          "base_uri": "https://localhost:8080/"
        },
        "id": "f0ce1ac8",
        "outputId": "fc737c49-b597-4e2c-9742-babe9cf22a3a"
      },
      "outputs": [
        {
          "output_type": "stream",
          "name": "stdout",
          "text": [
            "/content/skin-cancer-mnist-ham10000.zip\n"
          ]
        }
      ],
      "source": [
        "archive = 'skin-cancer-mnist-ham10000.zip'\n",
        "cur_dir = os.getcwd()\n",
        "a = os.path.join(cur_dir, archive)\n",
        "print(a)"
      ]
    },
    {
      "cell_type": "code",
      "execution_count": 31,
      "id": "5506b7f5",
      "metadata": {
        "id": "5506b7f5"
      },
      "outputs": [],
      "source": [
        "#with ZipFile(archive , 'r') as zip_ref:\n",
        "#    zip_ref.extractall('./')"
      ]
    },
    {
      "cell_type": "code",
      "execution_count": 32,
      "id": "c852dfa7",
      "metadata": {
        "id": "c852dfa7"
      },
      "outputs": [],
      "source": [
        "path_1 = 'HAM10000_images_part_1'\n",
        "path_2 = 'HAM10000_images_part_2'\n",
        "path_meta = 'HAM10000_metadata.csv'"
      ]
    },
    {
      "cell_type": "markdown",
      "id": "825dbb6f",
      "metadata": {
        "id": "825dbb6f"
      },
      "source": [
        "### Read data"
      ]
    },
    {
      "cell_type": "code",
      "execution_count": 33,
      "id": "a8b201ac",
      "metadata": {
        "colab": {
          "base_uri": "https://localhost:8080/"
        },
        "id": "a8b201ac",
        "outputId": "f216cf77-8cba-4037-8aeb-e3a36082a79d"
      },
      "outputs": [
        {
          "output_type": "execute_result",
          "data": {
            "text/plain": [
              "(5000, 5015)"
            ]
          },
          "metadata": {},
          "execution_count": 33
        }
      ],
      "source": [
        "file_path1 = os.path.join(cur_dir, path_1) #HAM10000_images_part_1\n",
        "file_path2 = os.path.join(cur_dir, path_2) #HAM10000_images_part_2\n",
        "\n",
        "len(os.listdir(file_path1)), len(os.listdir(file_path2))"
      ]
    },
    {
      "cell_type": "code",
      "execution_count": 34,
      "id": "4b34b21e",
      "metadata": {
        "colab": {
          "base_uri": "https://localhost:8080/"
        },
        "id": "4b34b21e",
        "outputId": "5a0a6fc5-5641-4b6f-e510-30d69f03bdd8"
      },
      "outputs": [
        {
          "output_type": "execute_result",
          "data": {
            "text/plain": [
              "array(['bkl', 'nv', 'df', 'mel', 'vasc', 'bcc', 'akiec'], dtype=object)"
            ]
          },
          "metadata": {},
          "execution_count": 34
        }
      ],
      "source": [
        "metadata_path = os.path.join(cur_dir, path_meta)\n",
        "df = pd.read_csv(metadata_path)\n",
        "df['lesion_id'].unique().shape, df\n",
        "\n",
        "##\n",
        "df_ids_img = df[['lesion_id','image_id','dx']]\n",
        "df_ids_img['dx'].unique()"
      ]
    },
    {
      "cell_type": "markdown",
      "id": "96078fee",
      "metadata": {
        "id": "96078fee"
      },
      "source": [
        "This shows that we have 7470 unique images and duplicates that are either different views or magnified."
      ]
    },
    {
      "cell_type": "markdown",
      "id": "4ef5f9c7",
      "metadata": {
        "id": "4ef5f9c7"
      },
      "source": [
        "### First folder processing"
      ]
    },
    {
      "cell_type": "code",
      "execution_count": 35,
      "id": "f55ec05a",
      "metadata": {
        "id": "f55ec05a"
      },
      "outputs": [],
      "source": [
        "num_1 = int( len(os.listdir(file_path1)) / 2 ) # Number of images to use"
      ]
    },
    {
      "cell_type": "code",
      "execution_count": 36,
      "id": "406f5f68",
      "metadata": {
        "scrolled": false,
        "colab": {
          "base_uri": "https://localhost:8080/"
        },
        "id": "406f5f68",
        "outputId": "2f472413-76cc-4843-c815-b421cd982249"
      },
      "outputs": [
        {
          "output_type": "execute_result",
          "data": {
            "text/plain": [
              "2500"
            ]
          },
          "metadata": {},
          "execution_count": 36
        }
      ],
      "source": [
        "size = (240,240)\n",
        "\n",
        "imgs_1 = [ np.zeros((size[0],size[1],3),'float32') for k in  range( num_1 ) ]\n",
        "len(imgs_1)"
      ]
    },
    {
      "cell_type": "code",
      "execution_count": 37,
      "id": "b9933721",
      "metadata": {
        "colab": {
          "base_uri": "https://localhost:8080/"
        },
        "id": "b9933721",
        "outputId": "92ff30fb-0809-4d8b-bf05-23d188b2ac60"
      },
      "outputs": [
        {
          "output_type": "execute_result",
          "data": {
            "text/plain": [
              "((2500,),)"
            ]
          },
          "metadata": {},
          "execution_count": 37
        }
      ],
      "source": [
        "target = np.zeros( num_1 ).astype('str') # Convert to int later\n",
        "\n",
        "target.shape, "
      ]
    },
    {
      "cell_type": "code",
      "execution_count": 38,
      "id": "eb35cff7",
      "metadata": {
        "colab": {
          "base_uri": "https://localhost:8080/"
        },
        "id": "eb35cff7",
        "outputId": "55453117-5c9d-4c4b-b27b-eea5a0468ff5"
      },
      "outputs": [
        {
          "output_type": "execute_result",
          "data": {
            "text/plain": [
              "[(240, 240, 3)]"
            ]
          },
          "metadata": {},
          "execution_count": 38
        }
      ],
      "source": [
        "sizes = []\n",
        "min = 100\n",
        "max = -1\n",
        "\n",
        "for img in imgs_1:\n",
        "    if( img.shape not in sizes ):\n",
        "        sizes.append(img.shape)\n",
        "sizes"
      ]
    },
    {
      "cell_type": "code",
      "execution_count": 39,
      "id": "02accb27",
      "metadata": {
        "colab": {
          "base_uri": "https://localhost:8080/",
          "height": 239
        },
        "id": "02accb27",
        "outputId": "b659ba47-ab68-4769-dc6f-f6b8491521aa"
      },
      "outputs": [
        {
          "output_type": "error",
          "ename": "KeyboardInterrupt",
          "evalue": "ignored",
          "traceback": [
            "\u001b[0;31m---------------------------------------------------------------------------\u001b[0m",
            "\u001b[0;31mKeyboardInterrupt\u001b[0m                         Traceback (most recent call last)",
            "\u001b[0;32m<ipython-input-39-dfcdba12bb3f>\u001b[0m in \u001b[0;36m<module>\u001b[0;34m()\u001b[0m\n\u001b[1;32m      3\u001b[0m         \u001b[0mp_id\u001b[0m \u001b[0;34m=\u001b[0m \u001b[0mimg\u001b[0m\u001b[0;34m.\u001b[0m\u001b[0msplit\u001b[0m\u001b[0;34m(\u001b[0m\u001b[0;34m'.'\u001b[0m\u001b[0;34m)\u001b[0m\u001b[0;34m[\u001b[0m\u001b[0;36m0\u001b[0m\u001b[0;34m]\u001b[0m\u001b[0;31m#Extract id\u001b[0m\u001b[0;34m\u001b[0m\u001b[0;34m\u001b[0m\u001b[0m\n\u001b[1;32m      4\u001b[0m         \u001b[0mtarget\u001b[0m\u001b[0;34m[\u001b[0m\u001b[0mi\u001b[0m\u001b[0;34m]\u001b[0m \u001b[0;34m=\u001b[0m \u001b[0mdf\u001b[0m\u001b[0;34m[\u001b[0m \u001b[0mdf\u001b[0m\u001b[0;34m[\u001b[0m\u001b[0;34m'image_id'\u001b[0m\u001b[0;34m]\u001b[0m \u001b[0;34m==\u001b[0m \u001b[0mp_id\u001b[0m \u001b[0;34m]\u001b[0m\u001b[0;34m[\u001b[0m\u001b[0;34m'dx'\u001b[0m\u001b[0;34m]\u001b[0m\u001b[0;34m.\u001b[0m\u001b[0miloc\u001b[0m\u001b[0;34m[\u001b[0m\u001b[0;36m0\u001b[0m\u001b[0;34m]\u001b[0m \u001b[0;31m# Target Feature\u001b[0m\u001b[0;34m\u001b[0m\u001b[0;34m\u001b[0m\u001b[0m\n\u001b[0;32m----> 5\u001b[0;31m         \u001b[0mimgs_1\u001b[0m\u001b[0;34m[\u001b[0m\u001b[0mi\u001b[0m\u001b[0;34m]\u001b[0m \u001b[0;34m=\u001b[0m \u001b[0mcv\u001b[0m\u001b[0;34m.\u001b[0m\u001b[0mresize\u001b[0m\u001b[0;34m(\u001b[0m \u001b[0mcv\u001b[0m\u001b[0;34m.\u001b[0m\u001b[0mimread\u001b[0m\u001b[0;34m(\u001b[0m \u001b[0mos\u001b[0m\u001b[0;34m.\u001b[0m\u001b[0mpath\u001b[0m\u001b[0;34m.\u001b[0m\u001b[0mjoin\u001b[0m\u001b[0;34m(\u001b[0m\u001b[0mfile_path1\u001b[0m\u001b[0;34m,\u001b[0m \u001b[0mimg\u001b[0m\u001b[0;34m)\u001b[0m \u001b[0;34m)\u001b[0m\u001b[0;34m,\u001b[0m \u001b[0msize\u001b[0m \u001b[0;34m)\u001b[0m \u001b[0;31m# Load data into array\u001b[0m\u001b[0;34m\u001b[0m\u001b[0;34m\u001b[0m\u001b[0m\n\u001b[0m\u001b[1;32m      6\u001b[0m         \u001b[0;31m# May want to change the color scheme, but we will see\u001b[0m\u001b[0;34m\u001b[0m\u001b[0;34m\u001b[0m\u001b[0;34m\u001b[0m\u001b[0m\n",
            "\u001b[0;31mKeyboardInterrupt\u001b[0m: "
          ]
        }
      ],
      "source": [
        "for i, img in enumerate( os.listdir(file_path1) ): #Loop through each file\n",
        "    if( i < num_1 ):\n",
        "        p_id = img.split('.')[0]#Extract id\n",
        "        target[i] = df[ df['image_id'] == p_id ]['dx'].iloc[0] # Target Feature\n",
        "        imgs_1[i] = cv.resize( cv.imread( os.path.join(file_path1, img) ), size ) # Load data into array \n",
        "        # May want to change the color scheme, but we will see                   "
      ]
    },
    {
      "cell_type": "code",
      "execution_count": null,
      "id": "daa66f5c",
      "metadata": {
        "id": "daa66f5c"
      },
      "outputs": [],
      "source": [
        "plt.imshow(imgs_1[0])"
      ]
    },
    {
      "cell_type": "markdown",
      "id": "f9047b54",
      "metadata": {
        "id": "f9047b54"
      },
      "source": [
        "### normalize images"
      ]
    },
    {
      "cell_type": "code",
      "execution_count": null,
      "id": "214ba4ff",
      "metadata": {
        "id": "214ba4ff"
      },
      "outputs": [],
      "source": [
        "imgs_1 = [ img / 255.0 for img in imgs_1 ]\n",
        "plt.imshow(imgs_1[0])"
      ]
    },
    {
      "cell_type": "code",
      "source": [
        "imgs_1[0]"
      ],
      "metadata": {
        "id": "MTy_dMJPO1Or"
      },
      "id": "MTy_dMJPO1Or",
      "execution_count": null,
      "outputs": []
    },
    {
      "cell_type": "markdown",
      "id": "45d367d8",
      "metadata": {
        "id": "45d367d8"
      },
      "source": [
        "### Shuffle data\n"
      ]
    },
    {
      "cell_type": "code",
      "execution_count": null,
      "id": "2bd964c7",
      "metadata": {
        "id": "2bd964c7"
      },
      "outputs": [],
      "source": [
        "# Put targets and photos together\n",
        "group_1 = [0 for i in range(num_1)]\n",
        "for i in range(num_1):\n",
        "    group_1[i] = [ imgs_1[i], target[i] ]"
      ]
    },
    {
      "cell_type": "code",
      "execution_count": null,
      "id": "644183f5",
      "metadata": {
        "id": "644183f5"
      },
      "outputs": [],
      "source": [
        "# Shuffle\n",
        "np.random.shuffle(group_1)\n",
        "\n",
        "# Ungroup\n",
        "for i in range(num_1):\n",
        "    imgs_1[i] = group_1[i][0]\n",
        "    target[i] = group_1[i][1]\n",
        "    "
      ]
    },
    {
      "cell_type": "code",
      "execution_count": null,
      "id": "7c9b6d2e",
      "metadata": {
        "id": "7c9b6d2e"
      },
      "outputs": [],
      "source": [
        "np.zeros((2,4))[0]"
      ]
    },
    {
      "cell_type": "markdown",
      "id": "c4bf73f7",
      "metadata": {
        "id": "c4bf73f7"
      },
      "source": [
        "### Convert target feature into numerical data"
      ]
    },
    {
      "cell_type": "code",
      "execution_count": null,
      "id": "f6495146",
      "metadata": {
        "id": "f6495146"
      },
      "outputs": [],
      "source": [
        "target_dict = {'bkl': 1, 'nv': 2, 'df': 3, 'mel': 4, 'vasc': 5, 'bcc': 6, 'akiec': 7}\n",
        "for k in range(14):\n",
        "    print( target[k] )\n",
        " \n",
        "# One-hot encode the targets\n",
        "target_ohe = np.zeros((num_1, len(target_dict)))\n",
        "target_ohe.shape\n",
        "for i in range(num_1):\n",
        "    idx = target_dict[target[i]] - 1\n",
        "    target_ohe[i][idx] = 1\n",
        "\n",
        "for k in range(10):\n",
        "    print(target_ohe[k])\n",
        "# Not useful probably\n",
        "#target= [ target_dict[t] for t in target ]\n",
        "#for k in range(14):\n",
        "#    print( target[k] )\n",
        "\n"
      ]
    },
    {
      "cell_type": "code",
      "execution_count": null,
      "id": "e181c297",
      "metadata": {
        "id": "e181c297"
      },
      "outputs": [],
      "source": [
        "cnt = [0 for k in range(7)]\n",
        "for k in target:\n",
        "    cnt[target_dict[k] - 1] += 1\n",
        "cnt[0] + cnt[2] + cnt[3]+ cnt[4]+ cnt[5] + cnt[6], cnt[1]"
      ]
    },
    {
      "cell_type": "markdown",
      "id": "c0e5b87c",
      "metadata": {
        "id": "c0e5b87c"
      },
      "source": [
        "Notice that data is skewed towards non-cancerous pictures"
      ]
    },
    {
      "cell_type": "markdown",
      "metadata": {
        "id": "J2VVMmKhL_xc"
      },
      "source": [
        "### Split data"
      ],
      "id": "J2VVMmKhL_xc"
    },
    {
      "cell_type": "code",
      "execution_count": null,
      "metadata": {
        "id": "J2Zc6B5KL_xe"
      },
      "outputs": [],
      "source": [
        "train_split = int ( num_1 * 0.8 )\n",
        "train_x = np.array(imgs_1[:train_split])\n",
        "train_y = np.array(target_ohe[:train_split])\n",
        "\n",
        "val_x = np.array(imgs_1[train_split:])\n",
        "val_y = np.array(target_ohe[train_split:])"
      ],
      "id": "J2Zc6B5KL_xe"
    },
    {
      "cell_type": "code",
      "execution_count": null,
      "id": "aacb7cc0",
      "metadata": {
        "id": "aacb7cc0"
      },
      "outputs": [],
      "source": [
        "# one-hot encode the targets"
      ]
    },
    {
      "cell_type": "markdown",
      "id": "a983065d",
      "metadata": {
        "id": "a983065d"
      },
      "source": [
        "### Model"
      ]
    },
    {
      "cell_type": "code",
      "execution_count": null,
      "id": "ffd92519",
      "metadata": {
        "id": "ffd92519"
      },
      "outputs": [],
      "source": [
        "filter1 = 16\n",
        "filter2 = 32\n",
        "filter3 = 64\n",
        "\n",
        "input_size = (size[0], size[1], 3)\n",
        "pool_size = (2,2)\n",
        "\n",
        "#First make our layers\n",
        "input_layer = tf.keras.layers.Input(shape = input_size, name = 'input')\n",
        "conv1 = Conv2D(filter1, (8,8), activation='relu', padding='same', name = 'c1')(input_layer)\n",
        "pool1 = MaxPool2D(pool_size, name = 'p1')(conv1)\n",
        "conv2 = Conv2D(filter2, (4,4), activation = 'relu', padding = 'same', name = 'c2')(pool1)\n",
        "pool2 = MaxPool2D(pool_size, name = 'p2')(conv2)\n",
        "conv3 = Conv2D(filter3, (2,2), activation = 'relu', padding = 'same', name = 'c3')(pool2)\n",
        "pool3 = MaxPool2D(pool_size, name = 'p3')(conv3)\n",
        "flatten = tf.keras.layers.Flatten(name = 'flatten')(pool3)\n",
        "dense1 = Dense(256,activation = 'relu',name = 'd1')(flatten)\n",
        "output_layer = Dense(7, activation = 'sigmoid',name = 'out')(dense1) # Change output and possibly above line"
      ]
    },
    {
      "cell_type": "code",
      "execution_count": null,
      "id": "1c7d8a85",
      "metadata": {
        "id": "1c7d8a85"
      },
      "outputs": [],
      "source": [
        "model1 = tf.keras.Model(input_layer, output_layer, name = 'Model1')\n",
        "\n",
        "optimizer = tf.keras.optimizers.Adam(learning_rate=1e-6)\n",
        "model1.compile(\n",
        "    optimizer = 'Adam',\n",
        "    loss = 'categorical_crossentropy', # Multiclass Problem\n",
        "    metrics = 'accuracy',\n",
        ")\n",
        "\n",
        "model1.summary()"
      ]
    },
    {
      "cell_type": "code",
      "execution_count": null,
      "id": "75d5e702",
      "metadata": {
        "id": "75d5e702"
      },
      "outputs": [],
      "source": [
        "early_stop = tf.keras.callbacks.EarlyStopping(\n",
        "    monitor='accuracy', patience = 5\n",
        "    )\n",
        "\n",
        "EPOCH = 100\n",
        "\n",
        "#Train the model\n",
        "history = model1.fit(\n",
        "    train_x,\n",
        "    train_y,\n",
        "    epochs = EPOCH,\n",
        "    batch_size = 1028,\n",
        "    callbacks = [early_stop]\n",
        ")"
      ]
    },
    {
      "cell_type": "code",
      "execution_count": null,
      "id": "1d87fe56",
      "metadata": {
        "id": "1d87fe56"
      },
      "outputs": [],
      "source": [
        "import matplotlib.pyplot as plt\n",
        "\n",
        "plt.title(\"Accuracy per Epoch\")\n",
        "plt.xlabel('Epoch')\n",
        "plt.ylabel('Accuracy')\n",
        "plt.plot(range(0,len(history.history['accuracy'])), history.history['accuracy'])\n"
      ]
    },
    {
      "cell_type": "code",
      "execution_count": null,
      "id": "c7c4880c",
      "metadata": {
        "id": "c7c4880c"
      },
      "outputs": [],
      "source": [
        "plt.hist(predictions)"
      ]
    },
    {
      "cell_type": "code",
      "execution_count": null,
      "metadata": {
        "id": "3TvKuQS4MQJg"
      },
      "outputs": [],
      "source": [
        "predictions = model1.predict(val_x)\n",
        "for k in range(3):\n",
        "  print(predictions[k])\n"
      ],
      "id": "3TvKuQS4MQJg"
    },
    {
      "cell_type": "code",
      "source": [
        "preds = []\n",
        "for k in predictions:\n",
        "  max = 0\n",
        "  idx = -1\n",
        "  max_idx = 0\n",
        "  for i in k:\n",
        "    idx += 1\n",
        "    if( i > max ):\n",
        "      max_idx = idx\n",
        "      max = i\n",
        "  preds.append(max_idx)"
      ],
      "metadata": {
        "id": "Uf2aE6l330xD"
      },
      "execution_count": null,
      "outputs": [],
      "id": "Uf2aE6l330xD"
    },
    {
      "cell_type": "code",
      "execution_count": null,
      "metadata": {
        "id": "yzx9w8QVMQJk"
      },
      "outputs": [],
      "source": [
        "plt.hist(predictions)"
      ],
      "id": "yzx9w8QVMQJk"
    },
    {
      "cell_type": "markdown",
      "id": "a7856bbc",
      "metadata": {
        "id": "a7856bbc"
      },
      "source": [
        "# Trying by identifying if a lesion is cancerous or not, disregarding type"
      ]
    }
  ],
  "metadata": {
    "kernelspec": {
      "display_name": "Python 3",
      "language": "python",
      "name": "python3"
    },
    "language_info": {
      "codemirror_mode": {
        "name": "ipython",
        "version": 3
      },
      "file_extension": ".py",
      "mimetype": "text/x-python",
      "name": "python",
      "nbconvert_exporter": "python",
      "pygments_lexer": "ipython3",
      "version": "3.8.8"
    },
    "colab": {
      "name": "Skin Cancer Detector Bin.ipynb",
      "provenance": [],
      "machine_shape": "hm"
    },
    "accelerator": "GPU"
  },
  "nbformat": 4,
  "nbformat_minor": 5
}