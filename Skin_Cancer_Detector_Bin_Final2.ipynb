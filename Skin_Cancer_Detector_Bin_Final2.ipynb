{
  "cells": [
    {
      "cell_type": "markdown",
      "id": "ee835a68",
      "metadata": {
        "id": "ee835a68"
      },
      "source": [
        "## Loading data into files and containers"
      ]
    },
    {
      "cell_type": "code",
      "execution_count": 1,
      "metadata": {
        "id": "0040de40"
      },
      "outputs": [],
      "source": [
        "import os\n",
        "import cv2 as cv\n",
        "import numpy as np\n",
        "import matplotlib.pyplot as plt\n",
        "from zipfile import ZipFile\n",
        "import pandas as pd\n",
        "from sklearn.metrics import f1_score, precision_score, recall_score\n",
        "import tensorflow as tf\n",
        "from tensorflow.keras.layers import Dense, Conv2D, MaxPool2D"
      ],
      "id": "0040de40"
    },
    {
      "cell_type": "markdown",
      "metadata": {
        "id": "8dbe7c05"
      },
      "source": [
        "### Downloading data set should not need to do know\n"
      ],
      "id": "8dbe7c05"
    },
    {
      "cell_type": "code",
      "execution_count": 2,
      "metadata": {
        "id": "76d85269"
      },
      "outputs": [],
      "source": [
        "#!chmod 600 kaggle.json && (ls ~/.kaggle 2>/dev/null || mkdir ~/.kaggle) && cp kaggle.json ~/.kaggle/ && echo 'Done'\n",
        "#!ls\n",
        "#!kaggle datasets download --force -d kmader/skin-cancer-mnist-ham10000"
      ],
      "id": "76d85269"
    },
    {
      "cell_type": "code",
      "execution_count": 3,
      "metadata": {
        "scrolled": true,
        "colab": {
          "base_uri": "https://localhost:8080/"
        },
        "id": "f0ce1ac8",
        "outputId": "b814d558-5d77-4ae8-dba3-f0b1aa16eb4d"
      },
      "outputs": [
        {
          "output_type": "stream",
          "name": "stdout",
          "text": [
            "/content/skin-cancer-mnist-ham10000.zip\n"
          ]
        }
      ],
      "source": [
        "archive = 'skin-cancer-mnist-ham10000.zip'\n",
        "cur_dir = os.getcwd()\n",
        "a = os.path.join(cur_dir, archive)\n",
        "print(a)"
      ],
      "id": "f0ce1ac8"
    },
    {
      "cell_type": "code",
      "execution_count": 4,
      "metadata": {
        "id": "5506b7f5"
      },
      "outputs": [],
      "source": [
        "#with ZipFile(archive , 'r') as zip_ref:\n",
        "#    zip_ref.extractall('./')"
      ],
      "id": "5506b7f5"
    },
    {
      "cell_type": "code",
      "execution_count": 5,
      "metadata": {
        "id": "c852dfa7"
      },
      "outputs": [],
      "source": [
        "path_1 = 'HAM10000_images_part_1'\n",
        "path_2 = 'HAM10000_images_part_2'\n",
        "path_meta = 'HAM10000_metadata.csv'"
      ],
      "id": "c852dfa7"
    },
    {
      "cell_type": "markdown",
      "metadata": {
        "id": "825dbb6f"
      },
      "source": [
        "### Read data"
      ],
      "id": "825dbb6f"
    },
    {
      "cell_type": "code",
      "execution_count": 6,
      "metadata": {
        "colab": {
          "base_uri": "https://localhost:8080/"
        },
        "id": "a8b201ac",
        "outputId": "5a25bda4-e63f-4d1f-90ed-ddcd29d59c54"
      },
      "outputs": [
        {
          "output_type": "execute_result",
          "data": {
            "text/plain": [
              "(5000, 5015)"
            ]
          },
          "metadata": {},
          "execution_count": 6
        }
      ],
      "source": [
        "file_path1 = os.path.join(cur_dir, path_1) #HAM10000_images_part_1\n",
        "file_path2 = os.path.join(cur_dir, path_2) #HAM10000_images_part_2\n",
        "\n",
        "len(os.listdir(file_path1)), len(os.listdir(file_path2))"
      ],
      "id": "a8b201ac"
    },
    {
      "cell_type": "code",
      "execution_count": 7,
      "metadata": {
        "colab": {
          "base_uri": "https://localhost:8080/"
        },
        "id": "4b34b21e",
        "outputId": "455c75ea-7fa8-4ccf-ef89-bd5f786e2413"
      },
      "outputs": [
        {
          "output_type": "execute_result",
          "data": {
            "text/plain": [
              "array(['bkl', 'nv', 'df', 'mel', 'vasc', 'bcc', 'akiec'], dtype=object)"
            ]
          },
          "metadata": {},
          "execution_count": 7
        }
      ],
      "source": [
        "metadata_path = os.path.join(cur_dir, path_meta)\n",
        "df = pd.read_csv(metadata_path)\n",
        "df['lesion_id'].unique().shape, df\n",
        "\n",
        "##\n",
        "df_ids_img = df[['lesion_id','image_id','dx']]\n",
        "df_ids_img['dx'].unique()"
      ],
      "id": "4b34b21e"
    },
    {
      "cell_type": "markdown",
      "source": [
        "### First Folder to add to Second folder"
      ],
      "metadata": {
        "id": "E0umwIT25F-s"
      },
      "id": "E0umwIT25F-s"
    },
    {
      "cell_type": "code",
      "source": [
        "df_ids_img"
      ],
      "metadata": {
        "colab": {
          "base_uri": "https://localhost:8080/",
          "height": 423
        },
        "id": "yf0qHliA5h27",
        "outputId": "f1b17e81-5a3f-4f04-e156-ce71d60db80d"
      },
      "id": "yf0qHliA5h27",
      "execution_count": 34,
      "outputs": [
        {
          "output_type": "execute_result",
          "data": {
            "text/plain": [
              "         lesion_id      image_id     dx\n",
              "0      HAM_0000118  ISIC_0027419    bkl\n",
              "1      HAM_0000118  ISIC_0025030    bkl\n",
              "2      HAM_0002730  ISIC_0026769    bkl\n",
              "3      HAM_0002730  ISIC_0025661    bkl\n",
              "4      HAM_0001466  ISIC_0031633    bkl\n",
              "...            ...           ...    ...\n",
              "10010  HAM_0002867  ISIC_0033084  akiec\n",
              "10011  HAM_0002867  ISIC_0033550  akiec\n",
              "10012  HAM_0002867  ISIC_0033536  akiec\n",
              "10013  HAM_0000239  ISIC_0032854  akiec\n",
              "10014  HAM_0003521  ISIC_0032258    mel\n",
              "\n",
              "[10015 rows x 3 columns]"
            ],
            "text/html": [
              "\n",
              "  <div id=\"df-634eb890-df52-4099-9bc0-5633c43d20e5\">\n",
              "    <div class=\"colab-df-container\">\n",
              "      <div>\n",
              "<style scoped>\n",
              "    .dataframe tbody tr th:only-of-type {\n",
              "        vertical-align: middle;\n",
              "    }\n",
              "\n",
              "    .dataframe tbody tr th {\n",
              "        vertical-align: top;\n",
              "    }\n",
              "\n",
              "    .dataframe thead th {\n",
              "        text-align: right;\n",
              "    }\n",
              "</style>\n",
              "<table border=\"1\" class=\"dataframe\">\n",
              "  <thead>\n",
              "    <tr style=\"text-align: right;\">\n",
              "      <th></th>\n",
              "      <th>lesion_id</th>\n",
              "      <th>image_id</th>\n",
              "      <th>dx</th>\n",
              "    </tr>\n",
              "  </thead>\n",
              "  <tbody>\n",
              "    <tr>\n",
              "      <th>0</th>\n",
              "      <td>HAM_0000118</td>\n",
              "      <td>ISIC_0027419</td>\n",
              "      <td>bkl</td>\n",
              "    </tr>\n",
              "    <tr>\n",
              "      <th>1</th>\n",
              "      <td>HAM_0000118</td>\n",
              "      <td>ISIC_0025030</td>\n",
              "      <td>bkl</td>\n",
              "    </tr>\n",
              "    <tr>\n",
              "      <th>2</th>\n",
              "      <td>HAM_0002730</td>\n",
              "      <td>ISIC_0026769</td>\n",
              "      <td>bkl</td>\n",
              "    </tr>\n",
              "    <tr>\n",
              "      <th>3</th>\n",
              "      <td>HAM_0002730</td>\n",
              "      <td>ISIC_0025661</td>\n",
              "      <td>bkl</td>\n",
              "    </tr>\n",
              "    <tr>\n",
              "      <th>4</th>\n",
              "      <td>HAM_0001466</td>\n",
              "      <td>ISIC_0031633</td>\n",
              "      <td>bkl</td>\n",
              "    </tr>\n",
              "    <tr>\n",
              "      <th>...</th>\n",
              "      <td>...</td>\n",
              "      <td>...</td>\n",
              "      <td>...</td>\n",
              "    </tr>\n",
              "    <tr>\n",
              "      <th>10010</th>\n",
              "      <td>HAM_0002867</td>\n",
              "      <td>ISIC_0033084</td>\n",
              "      <td>akiec</td>\n",
              "    </tr>\n",
              "    <tr>\n",
              "      <th>10011</th>\n",
              "      <td>HAM_0002867</td>\n",
              "      <td>ISIC_0033550</td>\n",
              "      <td>akiec</td>\n",
              "    </tr>\n",
              "    <tr>\n",
              "      <th>10012</th>\n",
              "      <td>HAM_0002867</td>\n",
              "      <td>ISIC_0033536</td>\n",
              "      <td>akiec</td>\n",
              "    </tr>\n",
              "    <tr>\n",
              "      <th>10013</th>\n",
              "      <td>HAM_0000239</td>\n",
              "      <td>ISIC_0032854</td>\n",
              "      <td>akiec</td>\n",
              "    </tr>\n",
              "    <tr>\n",
              "      <th>10014</th>\n",
              "      <td>HAM_0003521</td>\n",
              "      <td>ISIC_0032258</td>\n",
              "      <td>mel</td>\n",
              "    </tr>\n",
              "  </tbody>\n",
              "</table>\n",
              "<p>10015 rows × 3 columns</p>\n",
              "</div>\n",
              "      <button class=\"colab-df-convert\" onclick=\"convertToInteractive('df-634eb890-df52-4099-9bc0-5633c43d20e5')\"\n",
              "              title=\"Convert this dataframe to an interactive table.\"\n",
              "              style=\"display:none;\">\n",
              "        \n",
              "  <svg xmlns=\"http://www.w3.org/2000/svg\" height=\"24px\"viewBox=\"0 0 24 24\"\n",
              "       width=\"24px\">\n",
              "    <path d=\"M0 0h24v24H0V0z\" fill=\"none\"/>\n",
              "    <path d=\"M18.56 5.44l.94 2.06.94-2.06 2.06-.94-2.06-.94-.94-2.06-.94 2.06-2.06.94zm-11 1L8.5 8.5l.94-2.06 2.06-.94-2.06-.94L8.5 2.5l-.94 2.06-2.06.94zm10 10l.94 2.06.94-2.06 2.06-.94-2.06-.94-.94-2.06-.94 2.06-2.06.94z\"/><path d=\"M17.41 7.96l-1.37-1.37c-.4-.4-.92-.59-1.43-.59-.52 0-1.04.2-1.43.59L10.3 9.45l-7.72 7.72c-.78.78-.78 2.05 0 2.83L4 21.41c.39.39.9.59 1.41.59.51 0 1.02-.2 1.41-.59l7.78-7.78 2.81-2.81c.8-.78.8-2.07 0-2.86zM5.41 20L4 18.59l7.72-7.72 1.47 1.35L5.41 20z\"/>\n",
              "  </svg>\n",
              "      </button>\n",
              "      \n",
              "  <style>\n",
              "    .colab-df-container {\n",
              "      display:flex;\n",
              "      flex-wrap:wrap;\n",
              "      gap: 12px;\n",
              "    }\n",
              "\n",
              "    .colab-df-convert {\n",
              "      background-color: #E8F0FE;\n",
              "      border: none;\n",
              "      border-radius: 50%;\n",
              "      cursor: pointer;\n",
              "      display: none;\n",
              "      fill: #1967D2;\n",
              "      height: 32px;\n",
              "      padding: 0 0 0 0;\n",
              "      width: 32px;\n",
              "    }\n",
              "\n",
              "    .colab-df-convert:hover {\n",
              "      background-color: #E2EBFA;\n",
              "      box-shadow: 0px 1px 2px rgba(60, 64, 67, 0.3), 0px 1px 3px 1px rgba(60, 64, 67, 0.15);\n",
              "      fill: #174EA6;\n",
              "    }\n",
              "\n",
              "    [theme=dark] .colab-df-convert {\n",
              "      background-color: #3B4455;\n",
              "      fill: #D2E3FC;\n",
              "    }\n",
              "\n",
              "    [theme=dark] .colab-df-convert:hover {\n",
              "      background-color: #434B5C;\n",
              "      box-shadow: 0px 1px 3px 1px rgba(0, 0, 0, 0.15);\n",
              "      filter: drop-shadow(0px 1px 2px rgba(0, 0, 0, 0.3));\n",
              "      fill: #FFFFFF;\n",
              "    }\n",
              "  </style>\n",
              "\n",
              "      <script>\n",
              "        const buttonEl =\n",
              "          document.querySelector('#df-634eb890-df52-4099-9bc0-5633c43d20e5 button.colab-df-convert');\n",
              "        buttonEl.style.display =\n",
              "          google.colab.kernel.accessAllowed ? 'block' : 'none';\n",
              "\n",
              "        async function convertToInteractive(key) {\n",
              "          const element = document.querySelector('#df-634eb890-df52-4099-9bc0-5633c43d20e5');\n",
              "          const dataTable =\n",
              "            await google.colab.kernel.invokeFunction('convertToInteractive',\n",
              "                                                     [key], {});\n",
              "          if (!dataTable) return;\n",
              "\n",
              "          const docLinkHtml = 'Like what you see? Visit the ' +\n",
              "            '<a target=\"_blank\" href=https://colab.research.google.com/notebooks/data_table.ipynb>data table notebook</a>'\n",
              "            + ' to learn more about interactive tables.';\n",
              "          element.innerHTML = '';\n",
              "          dataTable['output_type'] = 'display_data';\n",
              "          await google.colab.output.renderOutput(dataTable, element);\n",
              "          const docLink = document.createElement('div');\n",
              "          docLink.innerHTML = docLinkHtml;\n",
              "          element.appendChild(docLink);\n",
              "        }\n",
              "      </script>\n",
              "    </div>\n",
              "  </div>\n",
              "  "
            ]
          },
          "metadata": {},
          "execution_count": 34
        }
      ]
    },
    {
      "cell_type": "code",
      "source": [
        ""
      ],
      "metadata": {
        "id": "v_KEv19N5Fov"
      },
      "id": "v_KEv19N5Fov",
      "execution_count": 21,
      "outputs": []
    },
    {
      "cell_type": "markdown",
      "source": [
        "### Second Folder Processing"
      ],
      "metadata": {
        "id": "JZGB-64XpTxU"
      },
      "id": "JZGB-64XpTxU"
    },
    {
      "cell_type": "code",
      "source": [
        "num_2 = int( len(os.listdir(file_path2)) ) # Number of images to use"
      ],
      "metadata": {
        "id": "hwLDu4SopVjE"
      },
      "id": "hwLDu4SopVjE",
      "execution_count": 53,
      "outputs": []
    },
    {
      "cell_type": "code",
      "source": [
        "size = (220,220)\n",
        "\n",
        "imgs_2 = []"
      ],
      "metadata": {
        "id": "iCDO2YDap9Xc"
      },
      "id": "iCDO2YDap9Xc",
      "execution_count": 54,
      "outputs": []
    },
    {
      "cell_type": "code",
      "source": [
        "target = []\n",
        "\n",
        "for i, img in enumerate( os.listdir(file_path2) ):\n",
        "  if( i < num_2 ):\n",
        "    p_id = img.split('.')[0]\n",
        "    target.append( df[ df['image_id'] == p_id ]['dx'].iloc[0])\n",
        "    imgs_2.append( cv.resize( cv.imread( os.path.join(file_path2, img) ), size ) )\n",
        "\n"
      ],
      "metadata": {
        "id": "rPACkj5HqGet"
      },
      "id": "rPACkj5HqGet",
      "execution_count": 55,
      "outputs": []
    },
    {
      "cell_type": "code",
      "source": [
        "# Add items to even out distribution\n",
        "# Distribution to be around half\n",
        "items = 2000\n",
        "cnt = 0\n",
        "\n",
        "for f in os.listdir(file_path1) :\n",
        "  p_id = f.split('.')[0]\n",
        "  dx = df_ids_img[ df_ids_img[ 'image_id' ] == p_id ]['dx'].iloc[0]\n",
        "  if not ( dx == 'nv' or dx == 'bkl' or dx == 'df' or dx == 'vasc' ) and items > 0:\n",
        "    cnt += 1\n",
        "    # Append to list to even out distribution\n",
        "    target.append( dx )\n",
        "    imgs_2.append( cv.resize( cv.imread( os.path.join( file_path1, f ) ), size ) )\n",
        "    items - 1\n",
        "\n",
        "cnt"
      ],
      "metadata": {
        "colab": {
          "base_uri": "https://localhost:8080/"
        },
        "id": "mHsOAbEM8SrK",
        "outputId": "cf226ede-9f76-4c16-d9f5-e93a0a99b6ef"
      },
      "id": "mHsOAbEM8SrK",
      "execution_count": 56,
      "outputs": [
        {
          "output_type": "execute_result",
          "data": {
            "text/plain": [
              "884"
            ]
          },
          "metadata": {},
          "execution_count": 56
        }
      ]
    },
    {
      "cell_type": "code",
      "source": [
        "plt.imshow(imgs_2[0])"
      ],
      "metadata": {
        "colab": {
          "base_uri": "https://localhost:8080/",
          "height": 287
        },
        "id": "I2lzz3FBwb8w",
        "outputId": "b560bd93-79d2-42a9-b60a-12990a7e5815"
      },
      "id": "I2lzz3FBwb8w",
      "execution_count": 57,
      "outputs": [
        {
          "output_type": "execute_result",
          "data": {
            "text/plain": [
              "<matplotlib.image.AxesImage at 0x7fa8bf59c0d0>"
            ]
          },
          "metadata": {},
          "execution_count": 57
        },
        {
          "output_type": "display_data",
          "data": {
            "text/plain": [
              "<Figure size 432x288 with 1 Axes>"
            ],
            "image/png": "[encoded data removed]"
          },
          "metadata": {
            "needs_background": "light"
          }
        }
      ]
    },
    {
      "cell_type": "code",
      "source": [
        "len(group_2), len(imgs_2), len(target)"
      ],
      "metadata": {
        "colab": {
          "base_uri": "https://localhost:8080/"
        },
        "id": "k-v_IqJL9xbi",
        "outputId": "9dcf49ba-d4f6-4794-bf2e-c4ef2ac0e1a4"
      },
      "id": "k-v_IqJL9xbi",
      "execution_count": 58,
      "outputs": [
        {
          "output_type": "execute_result",
          "data": {
            "text/plain": [
              "(5899, 5899, 5899)"
            ]
          },
          "metadata": {},
          "execution_count": 58
        }
      ]
    },
    {
      "cell_type": "code",
      "source": [
        "group_2 = [0 for i in range(len( imgs_2 ) ) ] \n",
        "for i in range(len( imgs_2 )):\n",
        "    group_2[i] = [ imgs_2[i], target[i] ]\n",
        "\n",
        "# Shuffle\n",
        "np.random.shuffle(group_2)\n",
        "\n",
        "# Ungroup\n",
        "for i in range(len( imgs_2 )):\n",
        "    imgs_2[i] = group_2[i][0]\n",
        "    target[i] = group_2[i][1]\n",
        "\n"
      ],
      "metadata": {
        "id": "F7RgKjWVrTcd"
      },
      "id": "F7RgKjWVrTcd",
      "execution_count": 59,
      "outputs": []
    },
    {
      "cell_type": "code",
      "source": [
        "target_binary = []\n",
        "for k in target:\n",
        "  if k == 'nv' or k == 'bkl' or k == 'df' or k == 'vasc':\n",
        "    target_binary.append(0)\n",
        "  else:\n",
        "    target_binary.append(1)\n",
        "    \n",
        "for k in range(5):\n",
        "    print(target_binary[k])\n"
      ],
      "metadata": {
        "colab": {
          "base_uri": "https://localhost:8080/"
        },
        "id": "GMIZ2JaDreKs",
        "outputId": "7c5aa17f-5f15-47d9-b874-5bb1c5f0472b"
      },
      "id": "GMIZ2JaDreKs",
      "execution_count": 60,
      "outputs": [
        {
          "output_type": "stream",
          "name": "stdout",
          "text": [
            "0\n",
            "1\n",
            "1\n",
            "0\n",
            "0\n"
          ]
        }
      ]
    },
    {
      "cell_type": "code",
      "source": [
        "cnt = [0,0]\n",
        "for k in target_binary:\n",
        "  cnt[k] += 1\n",
        "\n",
        "cnt, cnt[0] + cnt[1]"
      ],
      "metadata": {
        "colab": {
          "base_uri": "https://localhost:8080/"
        },
        "id": "UNa0LZyBwr8m",
        "outputId": "db98d23b-be4e-4b13-a8be-9d18dcf09f1b"
      },
      "id": "UNa0LZyBwr8m",
      "execution_count": 52,
      "outputs": [
        {
          "output_type": "execute_result",
          "data": {
            "text/plain": [
              "([3945, 1954], 5899)"
            ]
          },
          "metadata": {},
          "execution_count": 52
        }
      ]
    },
    {
      "cell_type": "markdown",
      "id": "ab0b2df5",
      "metadata": {
        "id": "ab0b2df5"
      },
      "source": [
        "### Split data"
      ]
    },
    {
      "cell_type": "code",
      "execution_count": 61,
      "id": "b59e98b0",
      "metadata": {
        "id": "b59e98b0"
      },
      "outputs": [],
      "source": [
        "train_split = int ( ( num_2 + items ) * 0.8 )\n",
        "train_x = np.array(imgs_2[:train_split])\n",
        "train_y = np.array(target_binary[:train_split])\n",
        "\n",
        "val_x = np.array(imgs_2[train_split:])\n",
        "val_y = np.array(target_binary[train_split:])"
      ]
    },
    {
      "cell_type": "code",
      "source": [
        "train_y_bin = np.array(target_binary[:train_split])\n",
        "\n",
        "val_y_bin = np.array(target_binary[train_split:])\n",
        "\n",
        "len(val_y_bin), len( train_y )"
      ],
      "metadata": {
        "id": "tlil-IgXCY2n",
        "colab": {
          "base_uri": "https://localhost:8080/"
        },
        "outputId": "d5d03240-15f5-46da-a787-01141b18eb94"
      },
      "execution_count": 62,
      "outputs": [
        {
          "output_type": "execute_result",
          "data": {
            "text/plain": [
              "(287, 5612)"
            ]
          },
          "metadata": {},
          "execution_count": 62
        }
      ],
      "id": "tlil-IgXCY2n"
    },
    {
      "cell_type": "code",
      "source": [
        "cnt = [0 for k in range(2)]\n",
        "for k in target_binary:\n",
        "    cnt[k] += 1\n",
        "\n",
        "cnt, 3431 / (3431 + 1569)"
      ],
      "metadata": {
        "id": "Xd5BLnxw7SJw",
        "colab": {
          "base_uri": "https://localhost:8080/"
        },
        "outputId": "8cceec3c-2bd9-4d0e-a5b2-25569b7e5106"
      },
      "execution_count": 63,
      "outputs": [
        {
          "output_type": "execute_result",
          "data": {
            "text/plain": [
              "([3945, 1954], 0.6862)"
            ]
          },
          "metadata": {},
          "execution_count": 63
        }
      ],
      "id": "Xd5BLnxw7SJw"
    },
    {
      "cell_type": "code",
      "source": [
        "filter1 = 16\n",
        "filter2 = 32\n",
        "filter3 = 64\n",
        "\n",
        "input_size = (size[0], size[1], 3)\n",
        "pool_size = (2,2)"
      ],
      "metadata": {
        "id": "dhZugpzAI9vc"
      },
      "id": "dhZugpzAI9vc",
      "execution_count": 64,
      "outputs": []
    },
    {
      "cell_type": "code",
      "source": [
        "#First make our layers\n",
        "input_layer = tf.keras.layers.Input(shape = input_size, name = 'input')\n",
        "conv1 = Conv2D(filter1, (8,8), activation='relu', padding='same', name = 'c1')(input_layer)\n",
        "pool1 = MaxPool2D(pool_size, name = 'p1')(conv1)\n",
        "conv2 = Conv2D(filter2, (4,4), activation = 'relu', padding = 'same', name = 'c2')(pool1)\n",
        "pool2 = MaxPool2D(pool_size, name = 'p2')(conv2)\n",
        "conv3 = Conv2D(filter3, (2,2), activation = 'relu', padding = 'same', name = 'c3')(pool2)\n",
        "pool3 = MaxPool2D(pool_size, name = 'p3')(conv3)\n",
        "flatten = tf.keras.layers.Flatten(name = 'flatten')(pool3)\n",
        "dense1 = Dense(128,activation = 'relu',name = 'd1')(flatten)\n",
        "output_layer = Dense(1, activation = 'sigmoid',name = 'out')(dense1)"
      ],
      "metadata": {
        "id": "3QnyIxbEBoJI"
      },
      "execution_count": 107,
      "outputs": [],
      "id": "3QnyIxbEBoJI"
    },
    {
      "cell_type": "code",
      "source": [
        "model2 = tf.keras.Model(input_layer, output_layer, name = 'Model2')\n",
        "\n",
        "optimizer = tf.keras.optimizers.Adam(learning_rate=1e-7)\n",
        "model2.compile(\n",
        "    optimizer = 'Adam',\n",
        "    loss = 'binary_crossentropy', # Multiclass Problem\n",
        "    metrics = 'accuracy',\n",
        ")\n",
        "\n",
        "model2.summary()"
      ],
      "metadata": {
        "id": "7ht_Bddi8od-",
        "colab": {
          "base_uri": "https://localhost:8080/"
        },
        "outputId": "379427b2-2d86-49f9-e82d-ad062164ec5f"
      },
      "execution_count": 116,
      "outputs": [
        {
          "output_type": "stream",
          "name": "stdout",
          "text": [
            "Model: \"Model2\"\n",
            "_________________________________________________________________\n",
            " Layer (type)                Output Shape              Param #   \n",
            "=================================================================\n",
            " input (InputLayer)          [(None, 220, 220, 3)]     0         \n",
            "                                                                 \n",
            " c1 (Conv2D)                 (None, 220, 220, 16)      3088      \n",
            "                                                                 \n",
            " p1 (MaxPooling2D)           (None, 110, 110, 16)      0         \n",
            "                                                                 \n",
            " c2 (Conv2D)                 (None, 110, 110, 32)      8224      \n",
            "                                                                 \n",
            " p2 (MaxPooling2D)           (None, 55, 55, 32)        0         \n",
            "                                                                 \n",
            " c3 (Conv2D)                 (None, 55, 55, 64)        8256      \n",
            "                                                                 \n",
            " p3 (MaxPooling2D)           (None, 27, 27, 64)        0         \n",
            "                                                                 \n",
            " flatten (Flatten)           (None, 46656)             0         \n",
            "                                                                 \n",
            " d1 (Dense)                  (None, 128)               5972096   \n",
            "                                                                 \n",
            " out (Dense)                 (None, 1)                 129       \n",
            "                                                                 \n",
            "=================================================================\n",
            "Total params: 5,991,793\n",
            "Trainable params: 5,991,793\n",
            "Non-trainable params: 0\n",
            "_________________________________________________________________\n"
          ]
        }
      ],
      "id": "7ht_Bddi8od-"
    },
    {
      "cell_type": "code",
      "source": [
        "early_stop = tf.keras.callbacks.EarlyStopping(\n",
        "    monitor='accuracy', patience = 7\n",
        "    )\n",
        "\n",
        "EPOCH = 100\n",
        "\n",
        "#Train the model\n",
        "history2 = model2.fit(\n",
        "    train_x,\n",
        "    train_y_bin,\n",
        "    epochs = EPOCH,\n",
        "    batch_size = 512,\n",
        "    callbacks = [early_stop]\n",
        ")"
      ],
      "metadata": {
        "id": "6IriMUS2AHAA",
        "colab": {
          "base_uri": "https://localhost:8080/"
        },
        "outputId": "9ce78df6-63b2-4e7f-d243-741fbcf9e34e"
      },
      "execution_count": 117,
      "outputs": [
        {
          "output_type": "stream",
          "name": "stdout",
          "text": [
            "Epoch 1/100\n",
            "11/11 [==============================] - 4s 307ms/step - loss: 14.2717 - accuracy: 0.6201\n",
            "Epoch 2/100\n",
            "11/11 [==============================] - 3s 306ms/step - loss: 1.2855 - accuracy: 0.7135\n",
            "Epoch 3/100\n",
            "11/11 [==============================] - 3s 304ms/step - loss: 0.7262 - accuracy: 0.7060\n",
            "Epoch 4/100\n",
            "11/11 [==============================] - 3s 306ms/step - loss: 0.5956 - accuracy: 0.7252\n",
            "Epoch 5/100\n",
            "11/11 [==============================] - 3s 305ms/step - loss: 0.5328 - accuracy: 0.7509\n",
            "Epoch 6/100\n",
            "11/11 [==============================] - 3s 306ms/step - loss: 0.4872 - accuracy: 0.7623\n",
            "Epoch 7/100\n",
            "11/11 [==============================] - 3s 302ms/step - loss: 0.4567 - accuracy: 0.7764\n",
            "Epoch 8/100\n",
            "11/11 [==============================] - 3s 303ms/step - loss: 0.4274 - accuracy: 0.7924\n",
            "Epoch 9/100\n",
            "11/11 [==============================] - 3s 303ms/step - loss: 0.4017 - accuracy: 0.8042\n",
            "Epoch 10/100\n",
            "11/11 [==============================] - 3s 305ms/step - loss: 0.3811 - accuracy: 0.8166\n",
            "Epoch 11/100\n",
            "11/11 [==============================] - 3s 308ms/step - loss: 0.3561 - accuracy: 0.8323\n",
            "Epoch 12/100\n",
            "11/11 [==============================] - 3s 305ms/step - loss: 0.3375 - accuracy: 0.8473\n",
            "Epoch 13/100\n",
            "11/11 [==============================] - 3s 305ms/step - loss: 0.3196 - accuracy: 0.8580\n",
            "Epoch 14/100\n",
            "11/11 [==============================] - 3s 303ms/step - loss: 0.2993 - accuracy: 0.8669\n",
            "Epoch 15/100\n",
            "11/11 [==============================] - 3s 306ms/step - loss: 0.2814 - accuracy: 0.8808\n",
            "Epoch 16/100\n",
            "11/11 [==============================] - 3s 305ms/step - loss: 0.2628 - accuracy: 0.8915\n",
            "Epoch 17/100\n",
            "11/11 [==============================] - 3s 304ms/step - loss: 0.2459 - accuracy: 0.9009\n",
            "Epoch 18/100\n",
            "11/11 [==============================] - 3s 303ms/step - loss: 0.2405 - accuracy: 0.9015\n",
            "Epoch 19/100\n",
            "11/11 [==============================] - 3s 303ms/step - loss: 0.2223 - accuracy: 0.9120\n",
            "Epoch 20/100\n",
            "11/11 [==============================] - 3s 304ms/step - loss: 0.1999 - accuracy: 0.9227\n",
            "Epoch 21/100\n",
            "11/11 [==============================] - 3s 305ms/step - loss: 0.1801 - accuracy: 0.9337\n",
            "Epoch 22/100\n",
            "11/11 [==============================] - 3s 302ms/step - loss: 0.1709 - accuracy: 0.9391\n",
            "Epoch 23/100\n",
            "11/11 [==============================] - 3s 304ms/step - loss: 0.1573 - accuracy: 0.9455\n",
            "Epoch 24/100\n",
            "11/11 [==============================] - 3s 302ms/step - loss: 0.1472 - accuracy: 0.9487\n",
            "Epoch 25/100\n",
            "11/11 [==============================] - 3s 303ms/step - loss: 0.1325 - accuracy: 0.9592\n",
            "Epoch 26/100\n",
            "11/11 [==============================] - 3s 305ms/step - loss: 0.1218 - accuracy: 0.9636\n",
            "Epoch 27/100\n",
            "11/11 [==============================] - 3s 306ms/step - loss: 0.1132 - accuracy: 0.9645\n",
            "Epoch 28/100\n",
            "11/11 [==============================] - 3s 306ms/step - loss: 0.1035 - accuracy: 0.9699\n",
            "Epoch 29/100\n",
            "11/11 [==============================] - 3s 303ms/step - loss: 0.0908 - accuracy: 0.9756\n",
            "Epoch 30/100\n",
            "11/11 [==============================] - 3s 304ms/step - loss: 0.0840 - accuracy: 0.9783\n",
            "Epoch 31/100\n",
            "11/11 [==============================] - 3s 305ms/step - loss: 0.0796 - accuracy: 0.9793\n",
            "Epoch 32/100\n",
            "11/11 [==============================] - 3s 306ms/step - loss: 0.0713 - accuracy: 0.9815\n",
            "Epoch 33/100\n",
            "11/11 [==============================] - 3s 304ms/step - loss: 0.0666 - accuracy: 0.9840\n",
            "Epoch 34/100\n",
            "11/11 [==============================] - 3s 304ms/step - loss: 0.0604 - accuracy: 0.9857\n",
            "Epoch 35/100\n",
            "11/11 [==============================] - 3s 305ms/step - loss: 0.0733 - accuracy: 0.9765\n",
            "Epoch 36/100\n",
            "11/11 [==============================] - 3s 306ms/step - loss: 0.1001 - accuracy: 0.9642\n",
            "Epoch 37/100\n",
            "11/11 [==============================] - 3s 304ms/step - loss: 0.0671 - accuracy: 0.9824\n",
            "Epoch 38/100\n",
            "11/11 [==============================] - 3s 306ms/step - loss: 0.0543 - accuracy: 0.9877\n",
            "Epoch 39/100\n",
            "11/11 [==============================] - 3s 306ms/step - loss: 0.0480 - accuracy: 0.9895\n",
            "Epoch 40/100\n",
            "11/11 [==============================] - 3s 305ms/step - loss: 0.0419 - accuracy: 0.9925\n",
            "Epoch 41/100\n",
            "11/11 [==============================] - 3s 303ms/step - loss: 0.0387 - accuracy: 0.9925\n",
            "Epoch 42/100\n",
            "11/11 [==============================] - 3s 306ms/step - loss: 0.0353 - accuracy: 0.9938\n",
            "Epoch 43/100\n",
            "11/11 [==============================] - 3s 308ms/step - loss: 0.0330 - accuracy: 0.9948\n",
            "Epoch 44/100\n",
            "11/11 [==============================] - 3s 307ms/step - loss: 0.0319 - accuracy: 0.9938\n",
            "Epoch 45/100\n",
            "11/11 [==============================] - 3s 307ms/step - loss: 0.0300 - accuracy: 0.9954\n",
            "Epoch 46/100\n",
            "11/11 [==============================] - 3s 302ms/step - loss: 0.0284 - accuracy: 0.9961\n",
            "Epoch 47/100\n",
            "11/11 [==============================] - 3s 305ms/step - loss: 0.0272 - accuracy: 0.9954\n",
            "Epoch 48/100\n",
            "11/11 [==============================] - 3s 305ms/step - loss: 0.0247 - accuracy: 0.9961\n",
            "Epoch 49/100\n",
            "11/11 [==============================] - 3s 303ms/step - loss: 0.0225 - accuracy: 0.9968\n",
            "Epoch 50/100\n",
            "11/11 [==============================] - 3s 306ms/step - loss: 0.0214 - accuracy: 0.9966\n",
            "Epoch 51/100\n",
            "11/11 [==============================] - 3s 305ms/step - loss: 0.0198 - accuracy: 0.9980\n",
            "Epoch 52/100\n",
            "11/11 [==============================] - 3s 304ms/step - loss: 0.0182 - accuracy: 0.9980\n",
            "Epoch 53/100\n",
            "11/11 [==============================] - 3s 305ms/step - loss: 0.0176 - accuracy: 0.9986\n",
            "Epoch 54/100\n",
            "11/11 [==============================] - 3s 303ms/step - loss: 0.0163 - accuracy: 0.9984\n",
            "Epoch 55/100\n",
            "11/11 [==============================] - 3s 306ms/step - loss: 0.0165 - accuracy: 0.9982\n",
            "Epoch 56/100\n",
            "11/11 [==============================] - 3s 303ms/step - loss: 0.0145 - accuracy: 0.9986\n",
            "Epoch 57/100\n",
            "11/11 [==============================] - 3s 307ms/step - loss: 0.0140 - accuracy: 0.9986\n",
            "Epoch 58/100\n",
            "11/11 [==============================] - 3s 308ms/step - loss: 0.0138 - accuracy: 0.9982\n",
            "Epoch 59/100\n",
            "11/11 [==============================] - 3s 303ms/step - loss: 0.0133 - accuracy: 0.9989\n",
            "Epoch 60/100\n",
            "11/11 [==============================] - 3s 302ms/step - loss: 0.0117 - accuracy: 0.9993\n",
            "Epoch 61/100\n",
            "11/11 [==============================] - 3s 304ms/step - loss: 0.0110 - accuracy: 0.9989\n",
            "Epoch 62/100\n",
            "11/11 [==============================] - 3s 304ms/step - loss: 0.0108 - accuracy: 0.9991\n",
            "Epoch 63/100\n",
            "11/11 [==============================] - 3s 304ms/step - loss: 0.0116 - accuracy: 0.9984\n",
            "Epoch 64/100\n",
            "11/11 [==============================] - 3s 303ms/step - loss: 0.0104 - accuracy: 0.9991\n",
            "Epoch 65/100\n",
            "11/11 [==============================] - 3s 305ms/step - loss: 0.0094 - accuracy: 0.9991\n",
            "Epoch 66/100\n",
            "11/11 [==============================] - 3s 303ms/step - loss: 0.0085 - accuracy: 0.9993\n",
            "Epoch 67/100\n",
            "11/11 [==============================] - 3s 306ms/step - loss: 0.0085 - accuracy: 0.9995\n",
            "Epoch 68/100\n",
            "11/11 [==============================] - 3s 307ms/step - loss: 0.0079 - accuracy: 0.9993\n",
            "Epoch 69/100\n",
            "11/11 [==============================] - 3s 307ms/step - loss: 0.0074 - accuracy: 0.9993\n",
            "Epoch 70/100\n",
            "11/11 [==============================] - 3s 305ms/step - loss: 0.0083 - accuracy: 0.9986\n",
            "Epoch 71/100\n",
            "11/11 [==============================] - 3s 304ms/step - loss: 0.0080 - accuracy: 0.9989\n",
            "Epoch 72/100\n",
            "11/11 [==============================] - 3s 302ms/step - loss: 0.0075 - accuracy: 0.9988\n",
            "Epoch 73/100\n",
            "11/11 [==============================] - 3s 304ms/step - loss: 0.0067 - accuracy: 0.9993\n",
            "Epoch 74/100\n",
            "11/11 [==============================] - 3s 303ms/step - loss: 0.0070 - accuracy: 0.9988\n"
          ]
        }
      ],
      "id": "6IriMUS2AHAA"
    },
    {
      "cell_type": "code",
      "execution_count": 118,
      "metadata": {
        "id": "A8g2wvbdBB2m",
        "colab": {
          "base_uri": "https://localhost:8080/",
          "height": 313
        },
        "outputId": "fed78407-98b4-43db-bee0-29eac497cf04"
      },
      "outputs": [
        {
          "output_type": "execute_result",
          "data": {
            "text/plain": [
              "[<matplotlib.lines.Line2D at 0x7fa7e1568a50>]"
            ]
          },
          "metadata": {},
          "execution_count": 118
        },
        {
          "output_type": "display_data",
          "data": {
            "text/plain": [
              "<Figure size 432x288 with 1 Axes>"
            ],
            "image/png": "[encoded data removed]"
          },
          "metadata": {
            "needs_background": "light"
          }
        }
      ],
      "source": [
        "plt.title(\"Accuracy per Epoch\")\n",
        "plt.xlabel('Epoch')\n",
        "plt.ylabel('Accuracy')\n",
        "plt.plot(range(0,len(history2.history['accuracy'])), history2.history['accuracy'])\n"
      ],
      "id": "A8g2wvbdBB2m"
    },
    {
      "cell_type": "code",
      "metadata": {
        "id": "AIG4qH65bacy"
      },
      "source": [
        "predictions = model2.predict(val_x)"
      ],
      "execution_count": 119,
      "outputs": [],
      "id": "AIG4qH65bacy"
    },
    {
      "cell_type": "code",
      "metadata": {
        "id": "PAp5KKNhbac0",
        "colab": {
          "base_uri": "https://localhost:8080/",
          "height": 353
        },
        "outputId": "77bc67f5-592c-4ab3-9e72-2629263779fc"
      },
      "source": [
        "plt.hist(predictions)"
      ],
      "execution_count": 120,
      "outputs": [
        {
          "output_type": "execute_result",
          "data": {
            "text/plain": [
              "(array([172.,   8.,   4.,   1.,   6.,   7.,   5.,   5.,   8.,  71.]),\n",
              " array([8.6686865e-23, 1.0000000e-01, 2.0000000e-01, 3.0000001e-01,\n",
              "        4.0000001e-01, 5.0000000e-01, 6.0000002e-01, 6.9999999e-01,\n",
              "        8.0000001e-01, 8.9999998e-01, 1.0000000e+00], dtype=float32),\n",
              " <a list of 10 Patch objects>)"
            ]
          },
          "metadata": {},
          "execution_count": 120
        },
        {
          "output_type": "display_data",
          "data": {
            "text/plain": [
              "<Figure size 432x288 with 1 Axes>"
            ],
            "image/png": "[encoded data removed]"
          },
          "metadata": {
            "needs_background": "light"
          }
        }
      ],
      "id": "PAp5KKNhbac0"
    },
    {
      "cell_type": "code",
      "execution_count": 121,
      "metadata": {
        "id": "KfWMhRVMBB2t",
        "colab": {
          "base_uri": "https://localhost:8080/"
        },
        "outputId": "94a2d71d-7200-4328-ec4b-809a0626e487"
      },
      "outputs": [
        {
          "output_type": "stream",
          "name": "stdout",
          "text": [
            "[0.00208527]\n",
            "[7.829586e-10]\n",
            "[0.04372333]\n"
          ]
        }
      ],
      "source": [
        "predictions2 = model2.predict(val_x)\n",
        "for k in range(3):\n",
        "  print(predictions2[k])\n"
      ],
      "id": "KfWMhRVMBB2t"
    },
    {
      "cell_type": "code",
      "source": [
        "preds2 = []\n",
        "for k in predictions2:\n",
        "  max = 0\n",
        "  idx = -1\n",
        "  max_idx = 0\n",
        "  for i in k:\n",
        "    idx += 1\n",
        "    if( i > max ):\n",
        "      max_idx = idx\n",
        "      max = i\n",
        "  preds2.append(max_idx)"
      ],
      "metadata": {
        "id": "mi4KmdYKBB2y"
      },
      "execution_count": 122,
      "outputs": [],
      "id": "mi4KmdYKBB2y"
    },
    {
      "cell_type": "code",
      "source": [
        "percent = [0.05*i for i in range(1,10)]\n",
        "for p in percent:\n",
        "  prediction = [0 if k < p else 1 for k in predictions]\n",
        "\n",
        "  f1 = f1_score(val_y, prediction)\n",
        "  prec = precision_score(val_y, prediction)\n",
        "  rec = recall_score(val_y, prediction)\n",
        "\n",
        "  print(f'The f1 score is {f1} the \\n \\\n",
        "        precision is {prec} and the \\n \\\n",
        "        recall is {rec}')\n",
        "  print(f' This is with threshold {p}\\n------------------------------\\n')\n"
      ],
      "metadata": {
        "colab": {
          "base_uri": "https://localhost:8080/"
        },
        "id": "B5QheQEObhyG",
        "outputId": "39b0c269-fcab-424a-fe51-041c6cb9b926"
      },
      "id": "B5QheQEObhyG",
      "execution_count": 123,
      "outputs": [
        {
          "output_type": "stream",
          "name": "stdout",
          "text": [
            "The f1 score is 0.5961538461538461 the \n",
            "         precision is 0.5 and the \n",
            "         recall is 0.7380952380952381\n",
            " This is with threshold 0.05\n",
            "------------------------------\n",
            "\n",
            "The f1 score is 0.5829145728643216 the \n",
            "         precision is 0.5043478260869565 and the \n",
            "         recall is 0.6904761904761905\n",
            " This is with threshold 0.1\n",
            "------------------------------\n",
            "\n",
            "The f1 score is 0.5773195876288659 the \n",
            "         precision is 0.509090909090909 and the \n",
            "         recall is 0.6666666666666666\n",
            " This is with threshold 0.15000000000000002\n",
            "------------------------------\n",
            "\n",
            "The f1 score is 0.5863874345549738 the \n",
            "         precision is 0.5233644859813084 and the \n",
            "         recall is 0.6666666666666666\n",
            " This is with threshold 0.2\n",
            "------------------------------\n",
            "\n",
            "The f1 score is 0.5775401069518716 the \n",
            "         precision is 0.5242718446601942 and the \n",
            "         recall is 0.6428571428571429\n",
            " This is with threshold 0.25\n",
            "------------------------------\n",
            "\n",
            "The f1 score is 0.5775401069518716 the \n",
            "         precision is 0.5242718446601942 and the \n",
            "         recall is 0.6428571428571429\n",
            " This is with threshold 0.30000000000000004\n",
            "------------------------------\n",
            "\n",
            "The f1 score is 0.5775401069518716 the \n",
            "         precision is 0.5242718446601942 and the \n",
            "         recall is 0.6428571428571429\n",
            " This is with threshold 0.35000000000000003\n",
            "------------------------------\n",
            "\n",
            "The f1 score is 0.5806451612903226 the \n",
            "         precision is 0.5294117647058824 and the \n",
            "         recall is 0.6428571428571429\n",
            " This is with threshold 0.4\n",
            "------------------------------\n",
            "\n",
            "The f1 score is 0.5555555555555556 the \n",
            "         precision is 0.5208333333333334 and the \n",
            "         recall is 0.5952380952380952\n",
            " This is with threshold 0.45\n",
            "------------------------------\n",
            "\n"
          ]
        }
      ]
    },
    {
      "cell_type": "code",
      "source": [
        ""
      ],
      "metadata": {
        "id": "PUh6kF-H3Lqr"
      },
      "id": "PUh6kF-H3Lqr",
      "execution_count": 123,
      "outputs": []
    }
  ],
  "metadata": {
    "kernelspec": {
      "display_name": "Python 3",
      "language": "python",
      "name": "python3"
    },
    "language_info": {
      "codemirror_mode": {
        "name": "ipython",
        "version": 3
      },
      "file_extension": ".py",
      "mimetype": "text/x-python",
      "name": "python",
      "nbconvert_exporter": "python",
      "pygments_lexer": "ipython3",
      "version": "3.8.8"
    },
    "colab": {
      "name": "Skin_Cancer_Detector_Bin_Folder 2.ipynb",
      "provenance": [],
      "collapsed_sections": [],
      "machine_shape": "hm"
    },
    "accelerator": "GPU"
  },
  "nbformat": 4,
  "nbformat_minor": 5
}