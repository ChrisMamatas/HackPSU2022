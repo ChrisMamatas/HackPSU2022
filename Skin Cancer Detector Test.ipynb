{
 "cells": [
  {
   "cell_type": "markdown",
   "id": "ee835a68",
   "metadata": {},
   "source": [
    "## Loading data into files and containers"
   ]
  },
  {
   "cell_type": "code",
   "execution_count": 1,
   "id": "0040de40",
   "metadata": {},
   "outputs": [],
   "source": [
    "import os\n",
    "import cv2 as cv\n",
    "import numpy as np\n",
    "import matplotlib.pyplot as plt\n",
    "from zipfile import ZipFile\n",
    "import pandas as pd\n",
    "from sklearn.metrics import f1_score, precision_score, recall_score"
   ]
  },
  {
   "cell_type": "markdown",
   "id": "8dbe7c05",
   "metadata": {},
   "source": [
    "### Downloading data set should not need to do know\n"
   ]
  },
  {
   "cell_type": "code",
   "execution_count": 2,
   "id": "76d85269",
   "metadata": {},
   "outputs": [],
   "source": [
    "#!kaggle datasets download --force -d kmader/skin-cancer-mnist-ham10000"
   ]
  },
  {
   "cell_type": "code",
   "execution_count": 3,
   "id": "f0ce1ac8",
   "metadata": {
    "scrolled": true
   },
   "outputs": [
    {
     "name": "stdout",
     "output_type": "stream",
     "text": [
      "C:\\Users\\Greg\\HackPSU\\skin-cancer-mnist-ham10000.zip\n"
     ]
    }
   ],
   "source": [
    "archive = os.listdir()[-1]\n",
    "cur_dir = os.getcwd()\n",
    "a = os.path.join(cur_dir, archive)\n",
    "print(a)"
   ]
  },
  {
   "cell_type": "code",
   "execution_count": 4,
   "id": "5506b7f5",
   "metadata": {},
   "outputs": [
    {
     "data": {
      "text/plain": [
       "\"\\nwith ZipFile(archive , 'r') as zip_ref:\\n    zip_ref.extractall('./')\\n\""
      ]
     },
     "execution_count": 4,
     "metadata": {},
     "output_type": "execute_result"
    }
   ],
   "source": [
    "'''\n",
    "with ZipFile(archive , 'r') as zip_ref:\n",
    "    zip_ref.extractall('./')\n",
    "'''"
   ]
  },
  {
   "cell_type": "code",
   "execution_count": 5,
   "id": "c852dfa7",
   "metadata": {},
   "outputs": [],
   "source": [
    "path_1 = 'HAM10000_images_part_1'\n",
    "path_2 = 'HAM10000_images_part_2'\n",
    "path_meta = 'HAM10000_metadata.csv'"
   ]
  },
  {
   "cell_type": "markdown",
   "id": "825dbb6f",
   "metadata": {},
   "source": [
    "### Read data"
   ]
  },
  {
   "cell_type": "code",
   "execution_count": 6,
   "id": "a8b201ac",
   "metadata": {},
   "outputs": [
    {
     "data": {
      "text/plain": [
       "(5000, 5015)"
      ]
     },
     "execution_count": 6,
     "metadata": {},
     "output_type": "execute_result"
    }
   ],
   "source": [
    "file_path1 = os.path.join(cur_dir, path_1) #HAM10000_images_part_1\n",
    "file_path2 = os.path.join(cur_dir, path_2) #HAM10000_images_part_2\n",
    "\n",
    "len(os.listdir(file_path1)), len(os.listdir(file_path2))"
   ]
  },
  {
   "cell_type": "code",
   "execution_count": 7,
   "id": "4b34b21e",
   "metadata": {},
   "outputs": [
    {
     "data": {
      "text/plain": [
       "array(['bkl', 'nv', 'df', 'mel', 'vasc', 'bcc', 'akiec'], dtype=object)"
      ]
     },
     "execution_count": 7,
     "metadata": {},
     "output_type": "execute_result"
    }
   ],
   "source": [
    "metadata_path = os.path.join(cur_dir, path_meta)\n",
    "df = pd.read_csv(metadata_path)\n",
    "df['lesion_id'].unique().shape, df\n",
    "\n",
    "##\n",
    "df_ids_img = df[['lesion_id','image_id','dx']]\n",
    "df_ids_img['dx'].unique()"
   ]
  },
  {
   "cell_type": "markdown",
   "id": "96078fee",
   "metadata": {},
   "source": [
    "This shows that we have 7470 unique images and duplicates that are either different views or magnified."
   ]
  },
  {
   "cell_type": "markdown",
   "id": "4ef5f9c7",
   "metadata": {},
   "source": [
    "### First folder processing"
   ]
  },
  {
   "cell_type": "code",
   "execution_count": 8,
   "id": "f55ec05a",
   "metadata": {},
   "outputs": [],
   "source": [
    "num_1 = int( len(os.listdir(file_path1)) / 2 ) # Number of images to use"
   ]
  },
  {
   "cell_type": "code",
   "execution_count": 9,
   "id": "406f5f68",
   "metadata": {
    "scrolled": false
   },
   "outputs": [
    {
     "data": {
      "text/plain": [
       "2500"
      ]
     },
     "execution_count": 9,
     "metadata": {},
     "output_type": "execute_result"
    }
   ],
   "source": [
    "imgs_1 = [ np.zeros((450,600,3),'float32') for k in  range( num_1 ) ]\n",
    "len(imgs_1)"
   ]
  },
  {
   "cell_type": "code",
   "execution_count": 10,
   "id": "b9933721",
   "metadata": {},
   "outputs": [
    {
     "data": {
      "text/plain": [
       "((2500,),)"
      ]
     },
     "execution_count": 10,
     "metadata": {},
     "output_type": "execute_result"
    }
   ],
   "source": [
    "target = np.zeros( num_1 ).astype('str') # Convert to int later\n",
    "\n",
    "target.shape, "
   ]
  },
  {
   "cell_type": "code",
   "execution_count": 11,
   "id": "eb35cff7",
   "metadata": {},
   "outputs": [
    {
     "data": {
      "text/plain": [
       "[(450, 600, 3)]"
      ]
     },
     "execution_count": 11,
     "metadata": {},
     "output_type": "execute_result"
    }
   ],
   "source": [
    "sizes = []\n",
    "min = 100\n",
    "max = -1\n",
    "\n",
    "for img in imgs_1:\n",
    "    if( img.shape not in sizes ):\n",
    "        sizes.append(img.shape)\n",
    "sizes"
   ]
  },
  {
   "cell_type": "code",
   "execution_count": 12,
   "id": "02accb27",
   "metadata": {},
   "outputs": [],
   "source": [
    "size = (450,600)\n",
    "for i, img in enumerate( os.listdir(file_path1) ): #Loop through each file\n",
    "    if( i < 2500 ):\n",
    "        p_id = img.split('.')[0]#Extract id\n",
    "        target[i] = df[ df['image_id'] == p_id ]['dx'].iloc[0] # Target Feature\n",
    "        imgs_1[i] = cv.resize( cv.imread( os.path.join(file_path1, img) ), size ) # Load data into array \n",
    "        # May want to change the color scheme, but we will see                   "
   ]
  },
  {
   "cell_type": "code",
   "execution_count": 13,
   "id": "daa66f5c",
   "metadata": {},
   "outputs": [
    {
     "data": {
      "text/plain": [
       "<matplotlib.image.AxesImage at 0x2bbdaeefa00>"
      ]
     },
     "execution_count": 13,
     "metadata": {},
     "output_type": "execute_result"
    },
    {
     "data": {
      "image/png": "[encoded data removed]",
      "text/plain": [
       "<Figure size 432x288 with 1 Axes>"
      ]
     },
     "metadata": {
      "needs_background": "light"
     },
     "output_type": "display_data"
    }
   ],
   "source": [
    "plt.imshow(imgs_1[0])"
   ]
  },
  {
   "cell_type": "markdown",
   "id": "f9047b54",
   "metadata": {},
   "source": [
    "### normalize images"
   ]
  },
  {
   "cell_type": "code",
   "execution_count": 14,
   "id": "214ba4ff",
   "metadata": {},
   "outputs": [
    {
     "ename": "MemoryError",
     "evalue": "Unable to allocate 6.18 MiB for an array with shape (600, 450, 3) and data type float64",
     "output_type": "error",
     "traceback": [
      "\u001b[1;31m---------------------------------------------------------------------------\u001b[0m",
      "\u001b[1;31mMemoryError\u001b[0m                               Traceback (most recent call last)",
      "\u001b[1;32m<ipython-input-14-2ebd42bed6f3>\u001b[0m in \u001b[0;36m<module>\u001b[1;34m\u001b[0m\n\u001b[1;32m----> 1\u001b[1;33m \u001b[0mimgs_1_norm\u001b[0m \u001b[1;33m=\u001b[0m \u001b[1;33m[\u001b[0m \u001b[0mimg\u001b[0m \u001b[1;33m/\u001b[0m \u001b[1;36m255.0\u001b[0m \u001b[1;32mfor\u001b[0m \u001b[0mimg\u001b[0m \u001b[1;32min\u001b[0m \u001b[0mimgs_1\u001b[0m \u001b[1;33m]\u001b[0m\u001b[1;33m\u001b[0m\u001b[1;33m\u001b[0m\u001b[0m\n\u001b[0m\u001b[0;32m      2\u001b[0m \u001b[0mplt\u001b[0m\u001b[1;33m.\u001b[0m\u001b[0mimshow\u001b[0m\u001b[1;33m(\u001b[0m\u001b[0mimgs_1_norm\u001b[0m\u001b[1;33m[\u001b[0m\u001b[1;36m0\u001b[0m\u001b[1;33m]\u001b[0m\u001b[1;33m)\u001b[0m\u001b[1;33m\u001b[0m\u001b[1;33m\u001b[0m\u001b[0m\n",
      "\u001b[1;32m<ipython-input-14-2ebd42bed6f3>\u001b[0m in \u001b[0;36m<listcomp>\u001b[1;34m(.0)\u001b[0m\n\u001b[1;32m----> 1\u001b[1;33m \u001b[0mimgs_1_norm\u001b[0m \u001b[1;33m=\u001b[0m \u001b[1;33m[\u001b[0m \u001b[0mimg\u001b[0m \u001b[1;33m/\u001b[0m \u001b[1;36m255.0\u001b[0m \u001b[1;32mfor\u001b[0m \u001b[0mimg\u001b[0m \u001b[1;32min\u001b[0m \u001b[0mimgs_1\u001b[0m \u001b[1;33m]\u001b[0m\u001b[1;33m\u001b[0m\u001b[1;33m\u001b[0m\u001b[0m\n\u001b[0m\u001b[0;32m      2\u001b[0m \u001b[0mplt\u001b[0m\u001b[1;33m.\u001b[0m\u001b[0mimshow\u001b[0m\u001b[1;33m(\u001b[0m\u001b[0mimgs_1_norm\u001b[0m\u001b[1;33m[\u001b[0m\u001b[1;36m0\u001b[0m\u001b[1;33m]\u001b[0m\u001b[1;33m)\u001b[0m\u001b[1;33m\u001b[0m\u001b[1;33m\u001b[0m\u001b[0m\n",
      "\u001b[1;31mMemoryError\u001b[0m: Unable to allocate 6.18 MiB for an array with shape (600, 450, 3) and data type float64"
     ]
    }
   ],
   "source": [
    "imgs_1_norm = [ img / 255.0 for img in imgs_1 ]\n",
    "plt.imshow(imgs_1_norm[0])"
   ]
  },
  {
   "cell_type": "markdown",
   "id": "45d367d8",
   "metadata": {},
   "source": [
    "### Shuffle data\n"
   ]
  },
  {
   "cell_type": "code",
   "execution_count": null,
   "id": "2bd964c7",
   "metadata": {},
   "outputs": [],
   "source": [
    "# Put targets and photos together\n",
    "group_1 = [0 for i in range(num_1)]\n",
    "for i in range(num_1):\n",
    "    group_1[i] = [ imgs_1_norm[i], target[i] ]"
   ]
  },
  {
   "cell_type": "code",
   "execution_count": null,
   "id": "644183f5",
   "metadata": {},
   "outputs": [],
   "source": [
    "# Shuffle\n",
    "np.random.shuffle(group_1)\n",
    "\n",
    "# Ungroup\n",
    "for i in range(num_1):\n",
    "    imgs_1_norm[i] = group_1[i][0]\n",
    "    target[i] = group_1[i][1]\n",
    "    "
   ]
  },
  {
   "cell_type": "code",
   "execution_count": null,
   "id": "7c9b6d2e",
   "metadata": {},
   "outputs": [],
   "source": [
    "np.zeros((2,4))[0]"
   ]
  },
  {
   "cell_type": "markdown",
   "id": "c4bf73f7",
   "metadata": {},
   "source": [
    "### Convert target feature into numerical data"
   ]
  },
  {
   "cell_type": "code",
   "execution_count": null,
   "id": "f6495146",
   "metadata": {},
   "outputs": [],
   "source": [
    "target_dict = {'bkl': 1, 'nv': 2, 'df': 3, 'mel': 4, 'vasc': 5, 'bcc': 6, 'akiec': 7}\n",
    "for k in range(14):\n",
    "    print( target[k] )\n",
    " \n",
    "# One-hot encode the targets\n",
    "target_ohe = np.zeros((num_1, len(target_dict)))\n",
    "target_ohe.shape\n",
    "for i in range(num_1):\n",
    "    idx = target_dict[target[i]] - 1\n",
    "    target_ohe[i][idx] = 1\n",
    "\n",
    "for k in range(10):\n",
    "    print(target_ohe[k])\n",
    "# Not useful probably\n",
    "#target= [ target_dict[t] for t in target ]\n",
    "#for k in range(14):\n",
    "#    print( target[k] )\n",
    "\n"
   ]
  },
  {
   "cell_type": "code",
   "execution_count": null,
   "id": "e181c297",
   "metadata": {},
   "outputs": [],
   "source": [
    "cnt = [0 for k in range(7)]\n",
    "for k in target:\n",
    "    cnt[target_dict[k] - 1] += 1\n",
    "cnt[0] + cnt[2] + cnt[3]+ cnt[4]+ cnt[5] + cnt[6], cnt[1]"
   ]
  },
  {
   "cell_type": "markdown",
   "id": "c0e5b87c",
   "metadata": {},
   "source": [
    "Notice that data is skewed towards non-cancerous pictures"
   ]
  },
  {
   "cell_type": "markdown",
   "id": "ab0b2df5",
   "metadata": {},
   "source": [
    "### Split data"
   ]
  },
  {
   "cell_type": "code",
   "execution_count": null,
   "id": "b59e98b0",
   "metadata": {},
   "outputs": [],
   "source": [
    "train_split = int ( num_1 * 0.8 )\n",
    "train_x = imgs_1_norm[:train_split]\n",
    "train_y = imgs_1_norm[:train_split]\n",
    "\n",
    "val_x = imgs_1_norm[train_split:]\n",
    "val_y = imgs_1_norm[train_split:]"
   ]
  },
  {
   "cell_type": "code",
   "execution_count": null,
   "id": "aacb7cc0",
   "metadata": {},
   "outputs": [],
   "source": [
    "# one-hot encode the targets"
   ]
  },
  {
   "cell_type": "markdown",
   "id": "a983065d",
   "metadata": {},
   "source": [
    "### Model"
   ]
  },
  {
   "cell_type": "code",
   "execution_count": null,
   "id": "ffd92519",
   "metadata": {},
   "outputs": [],
   "source": [
    "import tensorflow as tf\n",
    "from tensorflow.keras.layers import Dense, Conv2D, MaxPool2D\n",
    "\n",
    "filter1 = 16\n",
    "filter2 = 32\n",
    "filter3 = 64\n",
    "\n",
    "input_size = (size[0], size[1], 3)\n",
    "pool_size = (2,2)\n",
    "\n",
    "#First make our layers\n",
    "input_layer = tf.keras.layers.Input(shape = input_size, name = 'input')\n",
    "conv1 = Conv2D(filter1, (8,8), activation='relu', padding='same', name = 'c1')(input_layer)\n",
    "pool1 = MaxPool2D(pool_size, name = 'p1')(conv1)\n",
    "conv2 = Conv2D(filter2, (4,4), activation = 'relu', padding = 'same', name = 'c2')(pool1)\n",
    "pool2 = MaxPool2D(pool_size, name = 'p2')(conv2)\n",
    "conv3 = Conv2D(filter3, (2,2), activation = 'relu', padding = 'same', name = 'c3')(pool2)\n",
    "pool3 = MaxPool2D(pool_size, name = 'p3')(conv3)\n",
    "flatten = tf.keras.layers.Flatten(name = 'flatten')(pool3)\n",
    "dense1 = Dense(256,activation = 'relu',name = 'd1')(flatten)\n",
    "output_layer = Dense(1, activation = 'sigmoid',name = 'out')(dense1) # Change output and possibly above line"
   ]
  },
  {
   "cell_type": "code",
   "execution_count": null,
   "id": "1c7d8a85",
   "metadata": {},
   "outputs": [],
   "source": [
    "model1 = tf.keras.Model(input_layer, output_layer, name = 'Model1')\n",
    "\n",
    "optimizer = tf.keras.optimizers.Adam(learning_rate=1e-6)\n",
    "model1.compile(\n",
    "    optimizer = 'Adam',\n",
    "    loss = 'categorical_crossentropy', # Multiclass Problem\n",
    "    metrics = 'accuracy',\n",
    ")\n",
    "\n",
    "model1.summary()"
   ]
  },
  {
   "cell_type": "code",
   "execution_count": null,
   "id": "75d5e702",
   "metadata": {},
   "outputs": [],
   "source": [
    "early_stop = tf.keras.callbacks.EarlyStopping(\n",
    "    monitor='accuracy', patience = 5\n",
    "    )\n",
    "\n",
    "EPOCH = 100\n",
    "\n",
    "#Train the model\n",
    "history = model1.fit(\n",
    "    train_x,\n",
    "    train_y,\n",
    "    epochs = EPOCH,\n",
    "    batch_size = 1028,\n",
    "    callbacks = [early_stop]\n",
    ")"
   ]
  },
  {
   "cell_type": "code",
   "execution_count": null,
   "id": "1d87fe56",
   "metadata": {},
   "outputs": [],
   "source": [
    "import matplotlib.pyplot as plt\n",
    "\n",
    "plt.title(\"Accuracy per Epoch\")\n",
    "plt.xlabel('Epoch')\n",
    "plt.ylabel('Accuracy')\n",
    "plt.plot(range(0,len(history.history['accuracy'])), history.history['accuracy'])\n"
   ]
  },
  {
   "cell_type": "code",
   "execution_count": null,
   "id": "76e03c3f",
   "metadata": {},
   "outputs": [],
   "source": [
    "predictions = model1.predict(test_x)"
   ]
  },
  {
   "cell_type": "code",
   "execution_count": null,
   "id": "c7c4880c",
   "metadata": {},
   "outputs": [],
   "source": [
    "plt.hist(predictions)"
   ]
  },
  {
   "cell_type": "code",
   "execution_count": null,
   "id": "c6712f07",
   "metadata": {},
   "outputs": [],
   "source": [
    "prediction = [int(round(k[0])) for k in predictions]\n",
    "\n",
    "f1 = f1_score(test_y, prediction)\n",
    "prec = precision_score(test_y, prediction)\n",
    "rec = recall_score(test_y, prediction)\n",
    "\n",
    "print(f'The f1 score is {f1} the \\n \\\n",
    "        precision is {prec} and the \\n \\\n",
    "        recall is {rec}')"
   ]
  },
  {
   "cell_type": "markdown",
   "id": "a7856bbc",
   "metadata": {},
   "source": [
    "# Trying by identifying if a lesion is cancerous or not, disregarding type"
   ]
  },
  {
   "cell_type": "code",
   "execution_count": null,
   "id": "f03a14ca",
   "metadata": {},
   "outputs": [],
   "source": []
  }
 ],
 "metadata": {
  "kernelspec": {
   "display_name": "Python 3",
   "language": "python",
   "name": "python3"
  },
  "language_info": {
   "codemirror_mode": {
    "name": "ipython",
    "version": 3
   },
   "file_extension": ".py",
   "mimetype": "text/x-python",
   "name": "python",
   "nbconvert_exporter": "python",
   "pygments_lexer": "ipython3",
   "version": "3.8.8"
  }
 },
 "nbformat": 4,
 "nbformat_minor": 5
}
