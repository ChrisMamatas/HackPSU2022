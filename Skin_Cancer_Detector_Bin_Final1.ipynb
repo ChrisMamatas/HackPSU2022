{
  "cells": [
    {
      "cell_type": "markdown",
      "id": "ee835a68",
      "metadata": {
        "id": "ee835a68"
      },
      "source": [
        "## Loading data into files and containers"
      ]
    },
    {
      "cell_type": "code",
      "execution_count": 1,
      "metadata": {
        "id": "0040de40"
      },
      "outputs": [],
      "source": [
        "import os\n",
        "import cv2 as cv\n",
        "import numpy as np\n",
        "import matplotlib.pyplot as plt\n",
        "from zipfile import ZipFile\n",
        "import pandas as pd\n",
        "from sklearn.metrics import f1_score, precision_score, recall_score\n",
        "import tensorflow as tf\n",
        "from tensorflow.keras.layers import Dense, Conv2D, MaxPool2D"
      ],
      "id": "0040de40"
    },
    {
      "cell_type": "markdown",
      "metadata": {
        "id": "8dbe7c05"
      },
      "source": [
        "### Downloading data set should not need to do know\n"
      ],
      "id": "8dbe7c05"
    },
    {
      "cell_type": "code",
      "execution_count": 2,
      "metadata": {
        "id": "76d85269"
      },
      "outputs": [],
      "source": [
        "#!chmod 600 kaggle.json && (ls ~/.kaggle 2>/dev/null || mkdir ~/.kaggle) && cp kaggle.json ~/.kaggle/ && echo 'Done'\n",
        "#!ls\n",
        "#!kaggle datasets download --force -d kmader/skin-cancer-mnist-ham10000"
      ],
      "id": "76d85269"
    },
    {
      "cell_type": "code",
      "execution_count": 3,
      "metadata": {
        "scrolled": true,
        "colab": {
          "base_uri": "https://localhost:8080/"
        },
        "id": "f0ce1ac8",
        "outputId": "b814d558-5d77-4ae8-dba3-f0b1aa16eb4d"
      },
      "outputs": [
        {
          "output_type": "stream",
          "name": "stdout",
          "text": [
            "/content/skin-cancer-mnist-ham10000.zip\n"
          ]
        }
      ],
      "source": [
        "archive = 'skin-cancer-mnist-ham10000.zip'\n",
        "cur_dir = os.getcwd()\n",
        "a = os.path.join(cur_dir, archive)\n",
        "print(a)"
      ],
      "id": "f0ce1ac8"
    },
    {
      "cell_type": "code",
      "execution_count": 4,
      "metadata": {
        "id": "5506b7f5"
      },
      "outputs": [],
      "source": [
        "#with ZipFile(archive , 'r') as zip_ref:\n",
        "#    zip_ref.extractall('./')"
      ],
      "id": "5506b7f5"
    },
    {
      "cell_type": "code",
      "execution_count": 5,
      "metadata": {
        "id": "c852dfa7"
      },
      "outputs": [],
      "source": [
        "path_1 = 'HAM10000_images_part_1'\n",
        "path_2 = 'HAM10000_images_part_2'\n",
        "path_meta = 'HAM10000_metadata.csv'"
      ],
      "id": "c852dfa7"
    },
    {
      "cell_type": "markdown",
      "metadata": {
        "id": "825dbb6f"
      },
      "source": [
        "### Read data"
      ],
      "id": "825dbb6f"
    },
    {
      "cell_type": "code",
      "execution_count": 6,
      "metadata": {
        "colab": {
          "base_uri": "https://localhost:8080/"
        },
        "id": "a8b201ac",
        "outputId": "5a25bda4-e63f-4d1f-90ed-ddcd29d59c54"
      },
      "outputs": [
        {
          "output_type": "execute_result",
          "data": {
            "text/plain": [
              "(5000, 5015)"
            ]
          },
          "metadata": {},
          "execution_count": 6
        }
      ],
      "source": [
        "file_path1 = os.path.join(cur_dir, path_1) #HAM10000_images_part_1\n",
        "file_path2 = os.path.join(cur_dir, path_2) #HAM10000_images_part_2\n",
        "\n",
        "len(os.listdir(file_path1)), len(os.listdir(file_path2))"
      ],
      "id": "a8b201ac"
    },
    {
      "cell_type": "code",
      "execution_count": 7,
      "metadata": {
        "colab": {
          "base_uri": "https://localhost:8080/"
        },
        "id": "4b34b21e",
        "outputId": "455c75ea-7fa8-4ccf-ef89-bd5f786e2413"
      },
      "outputs": [
        {
          "output_type": "execute_result",
          "data": {
            "text/plain": [
              "array(['bkl', 'nv', 'df', 'mel', 'vasc', 'bcc', 'akiec'], dtype=object)"
            ]
          },
          "metadata": {},
          "execution_count": 7
        }
      ],
      "source": [
        "metadata_path = os.path.join(cur_dir, path_meta)\n",
        "df = pd.read_csv(metadata_path)\n",
        "df['lesion_id'].unique().shape, df\n",
        "\n",
        "##\n",
        "df_ids_img = df[['lesion_id','image_id','dx']]\n",
        "df_ids_img['dx'].unique()"
      ],
      "id": "4b34b21e"
    },
    {
      "cell_type": "markdown",
      "source": [
        "### First Folder to add to Second folder"
      ],
      "metadata": {
        "id": "E0umwIT25F-s"
      },
      "id": "E0umwIT25F-s"
    },
    {
      "cell_type": "code",
      "source": [
        "df_ids_img"
      ],
      "metadata": {
        "colab": {
          "base_uri": "https://localhost:8080/",
          "height": 423
        },
        "id": "yf0qHliA5h27",
        "outputId": "f1b17e81-5a3f-4f04-e156-ce71d60db80d"
      },
      "id": "yf0qHliA5h27",
      "execution_count": 34,
      "outputs": [
        {
          "output_type": "execute_result",
          "data": {
            "text/plain": [
              "         lesion_id      image_id     dx\n",
              "0      HAM_0000118  ISIC_0027419    bkl\n",
              "1      HAM_0000118  ISIC_0025030    bkl\n",
              "2      HAM_0002730  ISIC_0026769    bkl\n",
              "3      HAM_0002730  ISIC_0025661    bkl\n",
              "4      HAM_0001466  ISIC_0031633    bkl\n",
              "...            ...           ...    ...\n",
              "10010  HAM_0002867  ISIC_0033084  akiec\n",
              "10011  HAM_0002867  ISIC_0033550  akiec\n",
              "10012  HAM_0002867  ISIC_0033536  akiec\n",
              "10013  HAM_0000239  ISIC_0032854  akiec\n",
              "10014  HAM_0003521  ISIC_0032258    mel\n",
              "\n",
              "[10015 rows x 3 columns]"
            ],
            "text/html": [
              "\n",
              "  <div id=\"df-634eb890-df52-4099-9bc0-5633c43d20e5\">\n",
              "    <div class=\"colab-df-container\">\n",
              "      <div>\n",
              "<style scoped>\n",
              "    .dataframe tbody tr th:only-of-type {\n",
              "        vertical-align: middle;\n",
              "    }\n",
              "\n",
              "    .dataframe tbody tr th {\n",
              "        vertical-align: top;\n",
              "    }\n",
              "\n",
              "    .dataframe thead th {\n",
              "        text-align: right;\n",
              "    }\n",
              "</style>\n",
              "<table border=\"1\" class=\"dataframe\">\n",
              "  <thead>\n",
              "    <tr style=\"text-align: right;\">\n",
              "      <th></th>\n",
              "      <th>lesion_id</th>\n",
              "      <th>image_id</th>\n",
              "      <th>dx</th>\n",
              "    </tr>\n",
              "  </thead>\n",
              "  <tbody>\n",
              "    <tr>\n",
              "      <th>0</th>\n",
              "      <td>HAM_0000118</td>\n",
              "      <td>ISIC_0027419</td>\n",
              "      <td>bkl</td>\n",
              "    </tr>\n",
              "    <tr>\n",
              "      <th>1</th>\n",
              "      <td>HAM_0000118</td>\n",
              "      <td>ISIC_0025030</td>\n",
              "      <td>bkl</td>\n",
              "    </tr>\n",
              "    <tr>\n",
              "      <th>2</th>\n",
              "      <td>HAM_0002730</td>\n",
              "      <td>ISIC_0026769</td>\n",
              "      <td>bkl</td>\n",
              "    </tr>\n",
              "    <tr>\n",
              "      <th>3</th>\n",
              "      <td>HAM_0002730</td>\n",
              "      <td>ISIC_0025661</td>\n",
              "      <td>bkl</td>\n",
              "    </tr>\n",
              "    <tr>\n",
              "      <th>4</th>\n",
              "      <td>HAM_0001466</td>\n",
              "      <td>ISIC_0031633</td>\n",
              "      <td>bkl</td>\n",
              "    </tr>\n",
              "    <tr>\n",
              "      <th>...</th>\n",
              "      <td>...</td>\n",
              "      <td>...</td>\n",
              "      <td>...</td>\n",
              "    </tr>\n",
              "    <tr>\n",
              "      <th>10010</th>\n",
              "      <td>HAM_0002867</td>\n",
              "      <td>ISIC_0033084</td>\n",
              "      <td>akiec</td>\n",
              "    </tr>\n",
              "    <tr>\n",
              "      <th>10011</th>\n",
              "      <td>HAM_0002867</td>\n",
              "      <td>ISIC_0033550</td>\n",
              "      <td>akiec</td>\n",
              "    </tr>\n",
              "    <tr>\n",
              "      <th>10012</th>\n",
              "      <td>HAM_0002867</td>\n",
              "      <td>ISIC_0033536</td>\n",
              "      <td>akiec</td>\n",
              "    </tr>\n",
              "    <tr>\n",
              "      <th>10013</th>\n",
              "      <td>HAM_0000239</td>\n",
              "      <td>ISIC_0032854</td>\n",
              "      <td>akiec</td>\n",
              "    </tr>\n",
              "    <tr>\n",
              "      <th>10014</th>\n",
              "      <td>HAM_0003521</td>\n",
              "      <td>ISIC_0032258</td>\n",
              "      <td>mel</td>\n",
              "    </tr>\n",
              "  </tbody>\n",
              "</table>\n",
              "<p>10015 rows × 3 columns</p>\n",
              "</div>\n",
              "      <button class=\"colab-df-convert\" onclick=\"convertToInteractive('df-634eb890-df52-4099-9bc0-5633c43d20e5')\"\n",
              "              title=\"Convert this dataframe to an interactive table.\"\n",
              "              style=\"display:none;\">\n",
              "        \n",
              "  <svg xmlns=\"http://www.w3.org/2000/svg\" height=\"24px\"viewBox=\"0 0 24 24\"\n",
              "       width=\"24px\">\n",
              "    <path d=\"M0 0h24v24H0V0z\" fill=\"none\"/>\n",
              "    <path d=\"M18.56 5.44l.94 2.06.94-2.06 2.06-.94-2.06-.94-.94-2.06-.94 2.06-2.06.94zm-11 1L8.5 8.5l.94-2.06 2.06-.94-2.06-.94L8.5 2.5l-.94 2.06-2.06.94zm10 10l.94 2.06.94-2.06 2.06-.94-2.06-.94-.94-2.06-.94 2.06-2.06.94z\"/><path d=\"M17.41 7.96l-1.37-1.37c-.4-.4-.92-.59-1.43-.59-.52 0-1.04.2-1.43.59L10.3 9.45l-7.72 7.72c-.78.78-.78 2.05 0 2.83L4 21.41c.39.39.9.59 1.41.59.51 0 1.02-.2 1.41-.59l7.78-7.78 2.81-2.81c.8-.78.8-2.07 0-2.86zM5.41 20L4 18.59l7.72-7.72 1.47 1.35L5.41 20z\"/>\n",
              "  </svg>\n",
              "      </button>\n",
              "      \n",
              "  <style>\n",
              "    .colab-df-container {\n",
              "      display:flex;\n",
              "      flex-wrap:wrap;\n",
              "      gap: 12px;\n",
              "    }\n",
              "\n",
              "    .colab-df-convert {\n",
              "      background-color: #E8F0FE;\n",
              "      border: none;\n",
              "      border-radius: 50%;\n",
              "      cursor: pointer;\n",
              "      display: none;\n",
              "      fill: #1967D2;\n",
              "      height: 32px;\n",
              "      padding: 0 0 0 0;\n",
              "      width: 32px;\n",
              "    }\n",
              "\n",
              "    .colab-df-convert:hover {\n",
              "      background-color: #E2EBFA;\n",
              "      box-shadow: 0px 1px 2px rgba(60, 64, 67, 0.3), 0px 1px 3px 1px rgba(60, 64, 67, 0.15);\n",
              "      fill: #174EA6;\n",
              "    }\n",
              "\n",
              "    [theme=dark] .colab-df-convert {\n",
              "      background-color: #3B4455;\n",
              "      fill: #D2E3FC;\n",
              "    }\n",
              "\n",
              "    [theme=dark] .colab-df-convert:hover {\n",
              "      background-color: #434B5C;\n",
              "      box-shadow: 0px 1px 3px 1px rgba(0, 0, 0, 0.15);\n",
              "      filter: drop-shadow(0px 1px 2px rgba(0, 0, 0, 0.3));\n",
              "      fill: #FFFFFF;\n",
              "    }\n",
              "  </style>\n",
              "\n",
              "      <script>\n",
              "        const buttonEl =\n",
              "          document.querySelector('#df-634eb890-df52-4099-9bc0-5633c43d20e5 button.colab-df-convert');\n",
              "        buttonEl.style.display =\n",
              "          google.colab.kernel.accessAllowed ? 'block' : 'none';\n",
              "\n",
              "        async function convertToInteractive(key) {\n",
              "          const element = document.querySelector('#df-634eb890-df52-4099-9bc0-5633c43d20e5');\n",
              "          const dataTable =\n",
              "            await google.colab.kernel.invokeFunction('convertToInteractive',\n",
              "                                                     [key], {});\n",
              "          if (!dataTable) return;\n",
              "\n",
              "          const docLinkHtml = 'Like what you see? Visit the ' +\n",
              "            '<a target=\"_blank\" href=https://colab.research.google.com/notebooks/data_table.ipynb>data table notebook</a>'\n",
              "            + ' to learn more about interactive tables.';\n",
              "          element.innerHTML = '';\n",
              "          dataTable['output_type'] = 'display_data';\n",
              "          await google.colab.output.renderOutput(dataTable, element);\n",
              "          const docLink = document.createElement('div');\n",
              "          docLink.innerHTML = docLinkHtml;\n",
              "          element.appendChild(docLink);\n",
              "        }\n",
              "      </script>\n",
              "    </div>\n",
              "  </div>\n",
              "  "
            ]
          },
          "metadata": {},
          "execution_count": 34
        }
      ]
    },
    {
      "cell_type": "code",
      "source": [
        ""
      ],
      "metadata": {
        "id": "v_KEv19N5Fov"
      },
      "id": "v_KEv19N5Fov",
      "execution_count": 21,
      "outputs": []
    },
    {
      "cell_type": "markdown",
      "source": [
        "### Second Folder Processing"
      ],
      "metadata": {
        "id": "JZGB-64XpTxU"
      },
      "id": "JZGB-64XpTxU"
    },
    {
      "cell_type": "code",
      "source": [
        "num_2 = int( len(os.listdir(file_path2)) ) # Number of images to use"
      ],
      "metadata": {
        "id": "hwLDu4SopVjE"
      },
      "id": "hwLDu4SopVjE",
      "execution_count": 53,
      "outputs": []
    },
    {
      "cell_type": "code",
      "source": [
        "size = (220,220)\n",
        "\n",
        "imgs_2 = []"
      ],
      "metadata": {
        "id": "iCDO2YDap9Xc"
      },
      "id": "iCDO2YDap9Xc",
      "execution_count": 54,
      "outputs": []
    },
    {
      "cell_type": "code",
      "source": [
        "target = []\n",
        "\n",
        "for i, img in enumerate( os.listdir(file_path2) ):\n",
        "  if( i < num_2 ):\n",
        "    p_id = img.split('.')[0]\n",
        "    target.append( df[ df['image_id'] == p_id ]['dx'].iloc[0])\n",
        "    imgs_2.append( cv.resize( cv.imread( os.path.join(file_path2, img) ), size ) )\n",
        "\n"
      ],
      "metadata": {
        "id": "rPACkj5HqGet"
      },
      "id": "rPACkj5HqGet",
      "execution_count": 55,
      "outputs": []
    },
    {
      "cell_type": "code",
      "source": [
        "# Add items to even out distribution\n",
        "# Distribution to be around half\n",
        "items = 2000\n",
        "cnt = 0\n",
        "\n",
        "for f in os.listdir(file_path1) :\n",
        "  p_id = f.split('.')[0]\n",
        "  dx = df_ids_img[ df_ids_img[ 'image_id' ] == p_id ]['dx'].iloc[0]\n",
        "  if not ( dx == 'nv' or dx == 'bkl' or dx == 'df' or dx == 'vasc' ) and items > 0:\n",
        "    cnt += 1\n",
        "    # Append to list to even out distribution\n",
        "    target.append( dx )\n",
        "    imgs_2.append( cv.resize( cv.imread( os.path.join( file_path1, f ) ), size ) )\n",
        "    items - 1\n",
        "\n",
        "cnt"
      ],
      "metadata": {
        "colab": {
          "base_uri": "https://localhost:8080/"
        },
        "id": "mHsOAbEM8SrK",
        "outputId": "cf226ede-9f76-4c16-d9f5-e93a0a99b6ef"
      },
      "id": "mHsOAbEM8SrK",
      "execution_count": 56,
      "outputs": [
        {
          "output_type": "execute_result",
          "data": {
            "text/plain": [
              "884"
            ]
          },
          "metadata": {},
          "execution_count": 56
        }
      ]
    },
    {
      "cell_type": "code",
      "source": [
        "plt.imshow(imgs_2[0])"
      ],
      "metadata": {
        "colab": {
          "base_uri": "https://localhost:8080/",
          "height": 287
        },
        "id": "I2lzz3FBwb8w",
        "outputId": "b560bd93-79d2-42a9-b60a-12990a7e5815"
      },
      "id": "I2lzz3FBwb8w",
      "execution_count": 57,
      "outputs": [
        {
          "output_type": "execute_result",
          "data": {
            "text/plain": [
              "<matplotlib.image.AxesImage at 0x7fa8bf59c0d0>"
            ]
          },
          "metadata": {},
          "execution_count": 57
        },
        {
          "output_type": "display_data",
          "data": {
            "text/plain": [
              "<Figure size 432x288 with 1 Axes>"
            ],
            "image/png": "[encoded data removed]"
          },
          "metadata": {
            "needs_background": "light"
          }
        }
      ]
    },
    {
      "cell_type": "code",
      "source": [
        "len(group_2), len(imgs_2), len(target)"
      ],
      "metadata": {
        "colab": {
          "base_uri": "https://localhost:8080/"
        },
        "id": "k-v_IqJL9xbi",
        "outputId": "9dcf49ba-d4f6-4794-bf2e-c4ef2ac0e1a4"
      },
      "id": "k-v_IqJL9xbi",
      "execution_count": 58,
      "outputs": [
        {
          "output_type": "execute_result",
          "data": {
            "text/plain": [
              "(5899, 5899, 5899)"
            ]
          },
          "metadata": {},
          "execution_count": 58
        }
      ]
    },
    {
      "cell_type": "code",
      "source": [
        "group_2 = [0 for i in range(len( imgs_2 ) ) ] \n",
        "for i in range(len( imgs_2 )):\n",
        "    group_2[i] = [ imgs_2[i], target[i] ]\n",
        "\n",
        "# Shuffle\n",
        "np.random.shuffle(group_2)\n",
        "\n",
        "# Ungroup\n",
        "for i in range(len( imgs_2 )):\n",
        "    imgs_2[i] = group_2[i][0]\n",
        "    target[i] = group_2[i][1]\n",
        "\n"
      ],
      "metadata": {
        "id": "F7RgKjWVrTcd"
      },
      "id": "F7RgKjWVrTcd",
      "execution_count": 59,
      "outputs": []
    },
    {
      "cell_type": "code",
      "source": [
        "target_binary = []\n",
        "for k in target:\n",
        "  if k == 'nv' or k == 'bkl' or k == 'df' or k == 'vasc':\n",
        "    target_binary.append(0)\n",
        "  else:\n",
        "    target_binary.append(1)\n",
        "    \n",
        "for k in range(5):\n",
        "    print(target_binary[k])\n"
      ],
      "metadata": {
        "colab": {
          "base_uri": "https://localhost:8080/"
        },
        "id": "GMIZ2JaDreKs",
        "outputId": "7c5aa17f-5f15-47d9-b874-5bb1c5f0472b"
      },
      "id": "GMIZ2JaDreKs",
      "execution_count": 60,
      "outputs": [
        {
          "output_type": "stream",
          "name": "stdout",
          "text": [
            "0\n",
            "1\n",
            "1\n",
            "0\n",
            "0\n"
          ]
        }
      ]
    },
    {
      "cell_type": "code",
      "source": [
        "cnt = [0,0]\n",
        "for k in target_binary:\n",
        "  cnt[k] += 1\n",
        "\n",
        "cnt, cnt[0] + cnt[1]"
      ],
      "metadata": {
        "colab": {
          "base_uri": "https://localhost:8080/"
        },
        "id": "UNa0LZyBwr8m",
        "outputId": "db98d23b-be4e-4b13-a8be-9d18dcf09f1b"
      },
      "id": "UNa0LZyBwr8m",
      "execution_count": 52,
      "outputs": [
        {
          "output_type": "execute_result",
          "data": {
            "text/plain": [
              "([3945, 1954], 5899)"
            ]
          },
          "metadata": {},
          "execution_count": 52
        }
      ]
    },
    {
      "cell_type": "markdown",
      "id": "ab0b2df5",
      "metadata": {
        "id": "ab0b2df5"
      },
      "source": [
        "### Split data"
      ]
    },
    {
      "cell_type": "code",
      "execution_count": 61,
      "id": "b59e98b0",
      "metadata": {
        "id": "b59e98b0"
      },
      "outputs": [],
      "source": [
        "train_split = int ( ( num_2 + items ) * 0.8 )\n",
        "train_x = np.array(imgs_2[:train_split])\n",
        "train_y = np.array(target_binary[:train_split])\n",
        "\n",
        "val_x = np.array(imgs_2[train_split:])\n",
        "val_y = np.array(target_binary[train_split:])"
      ]
    },
    {
      "cell_type": "code",
      "source": [
        "train_y_bin = np.array(target_binary[:train_split])\n",
        "\n",
        "val_y_bin = np.array(target_binary[train_split:])\n",
        "\n",
        "len(val_y_bin), len( train_y )"
      ],
      "metadata": {
        "id": "tlil-IgXCY2n",
        "colab": {
          "base_uri": "https://localhost:8080/"
        },
        "outputId": "d5d03240-15f5-46da-a787-01141b18eb94"
      },
      "execution_count": 62,
      "outputs": [
        {
          "output_type": "execute_result",
          "data": {
            "text/plain": [
              "(287, 5612)"
            ]
          },
          "metadata": {},
          "execution_count": 62
        }
      ],
      "id": "tlil-IgXCY2n"
    },
    {
      "cell_type": "code",
      "source": [
        "cnt = [0 for k in range(2)]\n",
        "for k in target_binary:\n",
        "    cnt[k] += 1\n",
        "\n",
        "cnt, 3431 / (3431 + 1569)"
      ],
      "metadata": {
        "id": "Xd5BLnxw7SJw",
        "colab": {
          "base_uri": "https://localhost:8080/"
        },
        "outputId": "8cceec3c-2bd9-4d0e-a5b2-25569b7e5106"
      },
      "execution_count": 63,
      "outputs": [
        {
          "output_type": "execute_result",
          "data": {
            "text/plain": [
              "([3945, 1954], 0.6862)"
            ]
          },
          "metadata": {},
          "execution_count": 63
        }
      ],
      "id": "Xd5BLnxw7SJw"
    },
    {
      "cell_type": "code",
      "source": [
        "filter1 = 16\n",
        "filter2 = 32\n",
        "filter3 = 64\n",
        "\n",
        "input_size = (size[0], size[1], 3)\n",
        "pool_size = (2,2)"
      ],
      "metadata": {
        "id": "dhZugpzAI9vc"
      },
      "id": "dhZugpzAI9vc",
      "execution_count": 64,
      "outputs": []
    },
    {
      "cell_type": "code",
      "source": [
        "#First make our layers\n",
        "input_layer = tf.keras.layers.Input(shape = input_size, name = 'input')\n",
        "conv1 = Conv2D(filter1, (8,8), activation='relu', padding='same', name = 'c1')(input_layer)\n",
        "pool1 = MaxPool2D(pool_size, name = 'p1')(conv1)\n",
        "conv2 = Conv2D(filter2, (4,4), activation = 'relu', padding = 'same', name = 'c2')(pool1)\n",
        "pool2 = MaxPool2D(pool_size, name = 'p2')(conv2)\n",
        "conv3 = Conv2D(filter3, (2,2), activation = 'relu', padding = 'same', name = 'c3')(pool2)\n",
        "pool3 = MaxPool2D(pool_size, name = 'p3')(conv3)\n",
        "flatten = tf.keras.layers.Flatten(name = 'flatten')(pool3)\n",
        "dense1 = Dense(128,activation = 'relu',name = 'd1')(flatten)\n",
        "output_layer = Dense(1, activation = 'sigmoid',name = 'out')(dense1)"
      ],
      "metadata": {
        "id": "3QnyIxbEBoJI"
      },
      "execution_count": 107,
      "outputs": [],
      "id": "3QnyIxbEBoJI"
    },
    {
      "cell_type": "code",
      "source": [
        "model2 = tf.keras.Model(input_layer, output_layer, name = 'Model2')\n",
        "\n",
        "optimizer = tf.keras.optimizers.Adam(learning_rate=1e-8)\n",
        "model2.compile(\n",
        "    optimizer = 'Adam',\n",
        "    loss = 'binary_crossentropy', # Multiclass Problem\n",
        "    metrics = 'accuracy',\n",
        ")\n",
        "\n",
        "model2.summary()"
      ],
      "metadata": {
        "id": "7ht_Bddi8od-",
        "colab": {
          "base_uri": "https://localhost:8080/"
        },
        "outputId": "690e0a6a-1c1c-4235-a2e9-499527ad5c68"
      },
      "execution_count": 108,
      "outputs": [
        {
          "output_type": "stream",
          "name": "stdout",
          "text": [
            "Model: \"Model2\"\n",
            "_________________________________________________________________\n",
            " Layer (type)                Output Shape              Param #   \n",
            "=================================================================\n",
            " input (InputLayer)          [(None, 220, 220, 3)]     0         \n",
            "                                                                 \n",
            " c1 (Conv2D)                 (None, 220, 220, 16)      3088      \n",
            "                                                                 \n",
            " p1 (MaxPooling2D)           (None, 110, 110, 16)      0         \n",
            "                                                                 \n",
            " c2 (Conv2D)                 (None, 110, 110, 32)      8224      \n",
            "                                                                 \n",
            " p2 (MaxPooling2D)           (None, 55, 55, 32)        0         \n",
            "                                                                 \n",
            " c3 (Conv2D)                 (None, 55, 55, 64)        8256      \n",
            "                                                                 \n",
            " p3 (MaxPooling2D)           (None, 27, 27, 64)        0         \n",
            "                                                                 \n",
            " flatten (Flatten)           (None, 46656)             0         \n",
            "                                                                 \n",
            " d1 (Dense)                  (None, 128)               5972096   \n",
            "                                                                 \n",
            " out (Dense)                 (None, 1)                 129       \n",
            "                                                                 \n",
            "=================================================================\n",
            "Total params: 5,991,793\n",
            "Trainable params: 5,991,793\n",
            "Non-trainable params: 0\n",
            "_________________________________________________________________\n"
          ]
        }
      ],
      "id": "7ht_Bddi8od-"
    },
    {
      "cell_type": "code",
      "source": [
        "early_stop = tf.keras.callbacks.EarlyStopping(\n",
        "    monitor='accuracy', patience = 7\n",
        "    )\n",
        "\n",
        "EPOCH = 100\n",
        "\n",
        "#Train the model\n",
        "history2 = model2.fit(\n",
        "    train_x,\n",
        "    train_y_bin,\n",
        "    epochs = EPOCH,\n",
        "    batch_size = 512,\n",
        "    callbacks = [early_stop]\n",
        ")"
      ],
      "metadata": {
        "id": "6IriMUS2AHAA",
        "colab": {
          "base_uri": "https://localhost:8080/"
        },
        "outputId": "0bbf18ac-86ea-4876-beb0-703644b6cdd5"
      },
      "execution_count": 109,
      "outputs": [
        {
          "output_type": "stream",
          "name": "stdout",
          "text": [
            "Epoch 1/100\n",
            "11/11 [==============================] - 4s 305ms/step - loss: 187.7888 - accuracy: 0.5798\n",
            "Epoch 2/100\n",
            "11/11 [==============================] - 3s 305ms/step - loss: 48.4210 - accuracy: 0.5290\n",
            "Epoch 3/100\n",
            "11/11 [==============================] - 3s 305ms/step - loss: 7.8266 - accuracy: 0.5597\n",
            "Epoch 4/100\n",
            "11/11 [==============================] - 3s 305ms/step - loss: 2.9381 - accuracy: 0.5567\n",
            "Epoch 5/100\n",
            "11/11 [==============================] - 3s 306ms/step - loss: 1.1149 - accuracy: 0.6443\n",
            "Epoch 6/100\n",
            "11/11 [==============================] - 3s 305ms/step - loss: 0.7512 - accuracy: 0.6748\n",
            "Epoch 7/100\n",
            "11/11 [==============================] - 3s 304ms/step - loss: 0.5946 - accuracy: 0.6955\n",
            "Epoch 8/100\n",
            "11/11 [==============================] - 3s 302ms/step - loss: 0.5677 - accuracy: 0.7014\n",
            "Epoch 9/100\n",
            "11/11 [==============================] - 3s 303ms/step - loss: 0.5356 - accuracy: 0.7103\n",
            "Epoch 10/100\n",
            "11/11 [==============================] - 3s 307ms/step - loss: 0.5257 - accuracy: 0.7186\n",
            "Epoch 11/100\n",
            "11/11 [==============================] - 3s 305ms/step - loss: 0.5178 - accuracy: 0.7194\n",
            "Epoch 12/100\n",
            "11/11 [==============================] - 3s 303ms/step - loss: 0.5082 - accuracy: 0.7270\n",
            "Epoch 13/100\n",
            "11/11 [==============================] - 3s 306ms/step - loss: 0.4630 - accuracy: 0.7550\n",
            "Epoch 14/100\n",
            "11/11 [==============================] - 3s 305ms/step - loss: 0.4462 - accuracy: 0.7694\n",
            "Epoch 15/100\n",
            "11/11 [==============================] - 3s 307ms/step - loss: 0.4361 - accuracy: 0.7828\n",
            "Epoch 16/100\n",
            "11/11 [==============================] - 3s 304ms/step - loss: 0.4252 - accuracy: 0.7899\n",
            "Epoch 17/100\n",
            "11/11 [==============================] - 3s 302ms/step - loss: 0.4157 - accuracy: 0.7994\n",
            "Epoch 18/100\n",
            "11/11 [==============================] - 3s 304ms/step - loss: 0.4168 - accuracy: 0.7970\n",
            "Epoch 19/100\n",
            "11/11 [==============================] - 3s 305ms/step - loss: 0.4090 - accuracy: 0.7965\n",
            "Epoch 20/100\n",
            "11/11 [==============================] - 3s 306ms/step - loss: 0.4063 - accuracy: 0.8029\n",
            "Epoch 21/100\n",
            "11/11 [==============================] - 3s 305ms/step - loss: 0.3852 - accuracy: 0.8197\n",
            "Epoch 22/100\n",
            "11/11 [==============================] - 3s 306ms/step - loss: 0.3692 - accuracy: 0.8279\n",
            "Epoch 23/100\n",
            "11/11 [==============================] - 3s 304ms/step - loss: 0.3614 - accuracy: 0.8341\n",
            "Epoch 24/100\n",
            "11/11 [==============================] - 3s 305ms/step - loss: 0.3515 - accuracy: 0.8421\n",
            "Epoch 25/100\n",
            "11/11 [==============================] - 3s 303ms/step - loss: 0.3613 - accuracy: 0.8273\n",
            "Epoch 26/100\n",
            "11/11 [==============================] - 3s 307ms/step - loss: 0.3319 - accuracy: 0.8541\n",
            "Epoch 27/100\n",
            "11/11 [==============================] - 3s 303ms/step - loss: 0.3332 - accuracy: 0.8541\n",
            "Epoch 28/100\n",
            "11/11 [==============================] - 3s 303ms/step - loss: 0.3269 - accuracy: 0.8557\n",
            "Epoch 29/100\n",
            "11/11 [==============================] - 3s 306ms/step - loss: 0.3149 - accuracy: 0.8621\n",
            "Epoch 30/100\n",
            "11/11 [==============================] - 3s 306ms/step - loss: 0.3140 - accuracy: 0.8587\n",
            "Epoch 31/100\n",
            "11/11 [==============================] - 3s 303ms/step - loss: 0.2899 - accuracy: 0.8833\n",
            "Epoch 32/100\n",
            "11/11 [==============================] - 3s 305ms/step - loss: 0.2815 - accuracy: 0.8836\n",
            "Epoch 33/100\n",
            "11/11 [==============================] - 3s 306ms/step - loss: 0.2796 - accuracy: 0.8831\n",
            "Epoch 34/100\n",
            "11/11 [==============================] - 3s 305ms/step - loss: 0.2605 - accuracy: 0.8988\n",
            "Epoch 35/100\n",
            "11/11 [==============================] - 3s 305ms/step - loss: 0.2459 - accuracy: 0.9057\n",
            "Epoch 36/100\n",
            "11/11 [==============================] - 3s 304ms/step - loss: 0.2407 - accuracy: 0.9098\n",
            "Epoch 37/100\n",
            "11/11 [==============================] - 3s 304ms/step - loss: 0.2406 - accuracy: 0.9056\n",
            "Epoch 38/100\n",
            "11/11 [==============================] - 3s 306ms/step - loss: 0.2373 - accuracy: 0.9088\n",
            "Epoch 39/100\n",
            "11/11 [==============================] - 3s 304ms/step - loss: 0.2210 - accuracy: 0.9198\n",
            "Epoch 40/100\n",
            "11/11 [==============================] - 3s 303ms/step - loss: 0.2128 - accuracy: 0.9228\n",
            "Epoch 41/100\n",
            "11/11 [==============================] - 3s 304ms/step - loss: 0.2224 - accuracy: 0.9107\n",
            "Epoch 42/100\n",
            "11/11 [==============================] - 3s 303ms/step - loss: 0.2064 - accuracy: 0.9230\n",
            "Epoch 43/100\n",
            "11/11 [==============================] - 3s 304ms/step - loss: 0.1927 - accuracy: 0.9335\n",
            "Epoch 44/100\n",
            "11/11 [==============================] - 3s 305ms/step - loss: 0.1925 - accuracy: 0.9275\n",
            "Epoch 45/100\n",
            "11/11 [==============================] - 3s 305ms/step - loss: 0.1816 - accuracy: 0.9359\n",
            "Epoch 46/100\n",
            "11/11 [==============================] - 3s 304ms/step - loss: 0.1871 - accuracy: 0.9293\n",
            "Epoch 47/100\n",
            "11/11 [==============================] - 3s 306ms/step - loss: 0.1946 - accuracy: 0.9214\n",
            "Epoch 48/100\n",
            "11/11 [==============================] - 3s 307ms/step - loss: 0.1812 - accuracy: 0.9366\n",
            "Epoch 49/100\n",
            "11/11 [==============================] - 3s 308ms/step - loss: 0.1570 - accuracy: 0.9519\n",
            "Epoch 50/100\n",
            "11/11 [==============================] - 3s 307ms/step - loss: 0.1467 - accuracy: 0.9565\n",
            "Epoch 51/100\n",
            "11/11 [==============================] - 3s 304ms/step - loss: 0.1388 - accuracy: 0.9590\n",
            "Epoch 52/100\n",
            "11/11 [==============================] - 3s 305ms/step - loss: 0.1349 - accuracy: 0.9601\n",
            "Epoch 53/100\n",
            "11/11 [==============================] - 3s 306ms/step - loss: 0.1400 - accuracy: 0.9556\n",
            "Epoch 54/100\n",
            "11/11 [==============================] - 3s 306ms/step - loss: 0.1188 - accuracy: 0.9665\n",
            "Epoch 55/100\n",
            "11/11 [==============================] - 3s 306ms/step - loss: 0.1166 - accuracy: 0.9695\n",
            "Epoch 56/100\n",
            "11/11 [==============================] - 3s 304ms/step - loss: 0.1130 - accuracy: 0.9676\n",
            "Epoch 57/100\n",
            "11/11 [==============================] - 3s 304ms/step - loss: 0.1086 - accuracy: 0.9724\n",
            "Epoch 58/100\n",
            "11/11 [==============================] - 3s 303ms/step - loss: 0.1003 - accuracy: 0.9752\n",
            "Epoch 59/100\n",
            "11/11 [==============================] - 3s 306ms/step - loss: 0.0986 - accuracy: 0.9747\n",
            "Epoch 60/100\n",
            "11/11 [==============================] - 3s 308ms/step - loss: 0.0954 - accuracy: 0.9745\n",
            "Epoch 61/100\n",
            "11/11 [==============================] - 3s 303ms/step - loss: 0.0959 - accuracy: 0.9749\n",
            "Epoch 62/100\n",
            "11/11 [==============================] - 3s 306ms/step - loss: 0.0905 - accuracy: 0.9761\n",
            "Epoch 63/100\n",
            "11/11 [==============================] - 3s 304ms/step - loss: 0.0801 - accuracy: 0.9831\n",
            "Epoch 64/100\n",
            "11/11 [==============================] - 3s 303ms/step - loss: 0.0799 - accuracy: 0.9802\n",
            "Epoch 65/100\n",
            "11/11 [==============================] - 3s 304ms/step - loss: 0.0781 - accuracy: 0.9809\n",
            "Epoch 66/100\n",
            "11/11 [==============================] - 3s 304ms/step - loss: 0.0713 - accuracy: 0.9857\n",
            "Epoch 67/100\n",
            "11/11 [==============================] - 3s 305ms/step - loss: 0.0699 - accuracy: 0.9861\n",
            "Epoch 68/100\n",
            "11/11 [==============================] - 3s 306ms/step - loss: 0.0653 - accuracy: 0.9870\n",
            "Epoch 69/100\n",
            "11/11 [==============================] - 3s 305ms/step - loss: 0.0674 - accuracy: 0.9866\n",
            "Epoch 70/100\n",
            "11/11 [==============================] - 3s 305ms/step - loss: 0.0723 - accuracy: 0.9813\n",
            "Epoch 71/100\n",
            "11/11 [==============================] - 3s 307ms/step - loss: 0.0604 - accuracy: 0.9873\n",
            "Epoch 72/100\n",
            "11/11 [==============================] - 3s 304ms/step - loss: 0.0547 - accuracy: 0.9916\n",
            "Epoch 73/100\n",
            "11/11 [==============================] - 3s 304ms/step - loss: 0.0553 - accuracy: 0.9891\n",
            "Epoch 74/100\n",
            "11/11 [==============================] - 3s 303ms/step - loss: 0.0568 - accuracy: 0.9904\n",
            "Epoch 75/100\n",
            "11/11 [==============================] - 3s 305ms/step - loss: 0.0626 - accuracy: 0.9865\n",
            "Epoch 76/100\n",
            "11/11 [==============================] - 3s 307ms/step - loss: 0.0564 - accuracy: 0.9904\n",
            "Epoch 77/100\n",
            "11/11 [==============================] - 3s 306ms/step - loss: 0.0481 - accuracy: 0.9920\n",
            "Epoch 78/100\n",
            "11/11 [==============================] - 3s 304ms/step - loss: 0.0440 - accuracy: 0.9932\n",
            "Epoch 79/100\n",
            "11/11 [==============================] - 3s 306ms/step - loss: 0.0399 - accuracy: 0.9950\n",
            "Epoch 80/100\n",
            "11/11 [==============================] - 3s 304ms/step - loss: 0.0403 - accuracy: 0.9939\n",
            "Epoch 81/100\n",
            "11/11 [==============================] - 3s 305ms/step - loss: 0.0373 - accuracy: 0.9957\n",
            "Epoch 82/100\n",
            "11/11 [==============================] - 3s 303ms/step - loss: 0.0351 - accuracy: 0.9973\n",
            "Epoch 83/100\n",
            "11/11 [==============================] - 3s 303ms/step - loss: 0.0336 - accuracy: 0.9959\n",
            "Epoch 84/100\n",
            "11/11 [==============================] - 3s 306ms/step - loss: 0.0308 - accuracy: 0.9968\n",
            "Epoch 85/100\n",
            "11/11 [==============================] - 3s 304ms/step - loss: 0.0291 - accuracy: 0.9970\n",
            "Epoch 86/100\n",
            "11/11 [==============================] - 3s 306ms/step - loss: 0.0291 - accuracy: 0.9970\n",
            "Epoch 87/100\n",
            "11/11 [==============================] - 3s 304ms/step - loss: 0.0270 - accuracy: 0.9975\n",
            "Epoch 88/100\n",
            "11/11 [==============================] - 3s 306ms/step - loss: 0.0269 - accuracy: 0.9970\n",
            "Epoch 89/100\n",
            "11/11 [==============================] - 3s 307ms/step - loss: 0.0247 - accuracy: 0.9980\n",
            "Epoch 90/100\n",
            "11/11 [==============================] - 3s 306ms/step - loss: 0.0239 - accuracy: 0.9984\n",
            "Epoch 91/100\n",
            "11/11 [==============================] - 3s 304ms/step - loss: 0.0220 - accuracy: 0.9980\n",
            "Epoch 92/100\n",
            "11/11 [==============================] - 3s 305ms/step - loss: 0.0216 - accuracy: 0.9988\n",
            "Epoch 93/100\n",
            "11/11 [==============================] - 3s 304ms/step - loss: 0.0225 - accuracy: 0.9984\n",
            "Epoch 94/100\n",
            "11/11 [==============================] - 3s 307ms/step - loss: 0.0223 - accuracy: 0.9984\n",
            "Epoch 95/100\n",
            "11/11 [==============================] - 3s 307ms/step - loss: 0.0194 - accuracy: 0.9989\n",
            "Epoch 96/100\n",
            "11/11 [==============================] - 3s 305ms/step - loss: 0.0173 - accuracy: 0.9991\n",
            "Epoch 97/100\n",
            "11/11 [==============================] - 3s 304ms/step - loss: 0.0180 - accuracy: 0.9989\n",
            "Epoch 98/100\n",
            "11/11 [==============================] - 3s 305ms/step - loss: 0.0162 - accuracy: 0.9996\n",
            "Epoch 99/100\n",
            "11/11 [==============================] - 3s 305ms/step - loss: 0.0155 - accuracy: 0.9991\n",
            "Epoch 100/100\n",
            "11/11 [==============================] - 3s 304ms/step - loss: 0.0156 - accuracy: 0.9991\n"
          ]
        }
      ],
      "id": "6IriMUS2AHAA"
    },
    {
      "cell_type": "code",
      "execution_count": 110,
      "metadata": {
        "id": "A8g2wvbdBB2m",
        "colab": {
          "base_uri": "https://localhost:8080/",
          "height": 313
        },
        "outputId": "aae90501-063a-44dd-ec37-85668310832c"
      },
      "outputs": [
        {
          "output_type": "execute_result",
          "data": {
            "text/plain": [
              "[<matplotlib.lines.Line2D at 0x7fa7e17c8f50>]"
            ]
          },
          "metadata": {},
          "execution_count": 110
        },
        {
          "output_type": "display_data",
          "data": {
            "text/plain": [
              "<Figure size 432x288 with 1 Axes>"
            ],
            "image/png": "[encoded data removed]"
          },
          "metadata": {
            "needs_background": "light"
          }
        }
      ],
      "source": [
        "plt.title(\"Accuracy per Epoch\")\n",
        "plt.xlabel('Epoch')\n",
        "plt.ylabel('Accuracy')\n",
        "plt.plot(range(0,len(history2.history['accuracy'])), history2.history['accuracy'])\n"
      ],
      "id": "A8g2wvbdBB2m"
    },
    {
      "cell_type": "code",
      "metadata": {
        "id": "AIG4qH65bacy"
      },
      "source": [
        "predictions = model2.predict(val_x)"
      ],
      "execution_count": 111,
      "outputs": [],
      "id": "AIG4qH65bacy"
    },
    {
      "cell_type": "code",
      "metadata": {
        "id": "PAp5KKNhbac0",
        "colab": {
          "base_uri": "https://localhost:8080/",
          "height": 353
        },
        "outputId": "f7367e8e-5d8b-4f12-ab72-f180d75c268b"
      },
      "source": [
        "plt.hist(predictions)"
      ],
      "execution_count": 112,
      "outputs": [
        {
          "output_type": "execute_result",
          "data": {
            "text/plain": [
              "(array([161.,  10.,  12.,   7.,   7.,   5.,  10.,  12.,   3.,  60.]),\n",
              " array([2.2773152e-13, 1.0000000e-01, 2.0000000e-01, 3.0000001e-01,\n",
              "        4.0000001e-01, 5.0000000e-01, 6.0000002e-01, 6.9999999e-01,\n",
              "        8.0000001e-01, 8.9999998e-01, 1.0000000e+00], dtype=float32),\n",
              " <a list of 10 Patch objects>)"
            ]
          },
          "metadata": {},
          "execution_count": 112
        },
        {
          "output_type": "display_data",
          "data": {
            "text/plain": [
              "<Figure size 432x288 with 1 Axes>"
            ],
            "image/png": "[encoded data removed]"
          },
          "metadata": {
            "needs_background": "light"
          }
        }
      ],
      "id": "PAp5KKNhbac0"
    },
    {
      "cell_type": "code",
      "execution_count": 113,
      "metadata": {
        "id": "KfWMhRVMBB2t",
        "colab": {
          "base_uri": "https://localhost:8080/"
        },
        "outputId": "3497efe4-ba6f-48e9-a797-67c54d8db6bb"
      },
      "outputs": [
        {
          "output_type": "stream",
          "name": "stdout",
          "text": [
            "[0.9945094]\n",
            "[0.00900698]\n",
            "[0.9148913]\n"
          ]
        }
      ],
      "source": [
        "predictions2 = model2.predict(val_x)\n",
        "for k in range(3):\n",
        "  print(predictions2[k])\n"
      ],
      "id": "KfWMhRVMBB2t"
    },
    {
      "cell_type": "code",
      "source": [
        "preds2 = []\n",
        "for k in predictions2:\n",
        "  max = 0\n",
        "  idx = -1\n",
        "  max_idx = 0\n",
        "  for i in k:\n",
        "    idx += 1\n",
        "    if( i > max ):\n",
        "      max_idx = idx\n",
        "      max = i\n",
        "  preds2.append(max_idx)"
      ],
      "metadata": {
        "id": "mi4KmdYKBB2y"
      },
      "execution_count": 114,
      "outputs": [],
      "id": "mi4KmdYKBB2y"
    },
    {
      "cell_type": "code",
      "source": [
        "percent = [0.05*i for i in range(1,10)]\n",
        "for p in percent:\n",
        "  prediction = [0 if k < p else 1 for k in predictions]\n",
        "\n",
        "  f1 = f1_score(val_y, prediction)\n",
        "  prec = precision_score(val_y, prediction)\n",
        "  rec = recall_score(val_y, prediction)\n",
        "\n",
        "  print(f'The f1 score is {f1} the \\n \\\n",
        "        precision is {prec} and the \\n \\\n",
        "        recall is {rec}')\n",
        "  print(f' This is with threshold {p}\\n------------------------------\\n')\n"
      ],
      "metadata": {
        "colab": {
          "base_uri": "https://localhost:8080/"
        },
        "id": "B5QheQEObhyG",
        "outputId": "429854ce-4832-4c60-b65b-80500aa4971a"
      },
      "id": "B5QheQEObhyG",
      "execution_count": 115,
      "outputs": [
        {
          "output_type": "stream",
          "name": "stdout",
          "text": [
            "The f1 score is 0.5829596412556053 the \n",
            "         precision is 0.4676258992805755 and the \n",
            "         recall is 0.7738095238095238\n",
            " This is with threshold 0.05\n",
            "------------------------------\n",
            "\n",
            "The f1 score is 0.5619047619047619 the \n",
            "         precision is 0.46825396825396826 and the \n",
            "         recall is 0.7023809523809523\n",
            " This is with threshold 0.1\n",
            "------------------------------\n",
            "\n",
            "The f1 score is 0.5490196078431373 the \n",
            "         precision is 0.4666666666666667 and the \n",
            "         recall is 0.6666666666666666\n",
            " This is with threshold 0.15000000000000002\n",
            "------------------------------\n",
            "\n",
            "The f1 score is 0.55 the \n",
            "         precision is 0.47413793103448276 and the \n",
            "         recall is 0.6547619047619048\n",
            " This is with threshold 0.2\n",
            "------------------------------\n",
            "\n",
            "The f1 score is 0.5520833333333334 the \n",
            "         precision is 0.49074074074074076 and the \n",
            "         recall is 0.6309523809523809\n",
            " This is with threshold 0.25\n",
            "------------------------------\n",
            "\n",
            "The f1 score is 0.5638297872340425 the \n",
            "         precision is 0.5096153846153846 and the \n",
            "         recall is 0.6309523809523809\n",
            " This is with threshold 0.30000000000000004\n",
            "------------------------------\n",
            "\n",
            "The f1 score is 0.5621621621621621 the \n",
            "         precision is 0.5148514851485149 and the \n",
            "         recall is 0.6190476190476191\n",
            " This is with threshold 0.35000000000000003\n",
            "------------------------------\n",
            "\n",
            "The f1 score is 0.5524861878453038 the \n",
            "         precision is 0.5154639175257731 and the \n",
            "         recall is 0.5952380952380952\n",
            " This is with threshold 0.4\n",
            "------------------------------\n",
            "\n",
            "The f1 score is 0.5536723163841807 the \n",
            "         precision is 0.5268817204301075 and the \n",
            "         recall is 0.5833333333333334\n",
            " This is with threshold 0.45\n",
            "------------------------------\n",
            "\n"
          ]
        }
      ]
    },
    {
      "cell_type": "code",
      "source": [
        ""
      ],
      "metadata": {
        "id": "PUh6kF-H3Lqr"
      },
      "id": "PUh6kF-H3Lqr",
      "execution_count": 115,
      "outputs": []
    }
  ],
  "metadata": {
    "kernelspec": {
      "display_name": "Python 3",
      "language": "python",
      "name": "python3"
    },
    "language_info": {
      "codemirror_mode": {
        "name": "ipython",
        "version": 3
      },
      "file_extension": ".py",
      "mimetype": "text/x-python",
      "name": "python",
      "nbconvert_exporter": "python",
      "pygments_lexer": "ipython3",
      "version": "3.8.8"
    },
    "colab": {
      "name": "Skin_Cancer_Detector_Bin_Folder 2.ipynb",
      "provenance": [],
      "collapsed_sections": [],
      "machine_shape": "hm"
    },
    "accelerator": "GPU"
  },
  "nbformat": 4,
  "nbformat_minor": 5
}